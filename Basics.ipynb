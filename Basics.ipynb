{
 "cells": [
  {
   "cell_type": "markdown",
   "metadata": {},
   "source": [
    "# Profitable App Profiles for the App Store & Google Play Markets\n",
    "This project has four parts:\n",
    "* I will start by by clarifying the goal of the project (business understanding)\n",
    "* Then I will collect relevant data and review it (data exploration)\n",
    "* Next I'll clean the data to prepare it for analysis (data preparation)\n",
    "* Finally I will analyze the cleaned data (data analysis)\n",
    "\n",
    "**NOTE - this project is guided in spirit by Dataquest.io's guided project for the \"Python for Data Science: Fundamentals\" module. However, I am not using all of the methods they use - for example, I'm using pandas dataframes instead of lists of lists, and using code that makes sense with pandas dataframes instead of lists of lists, and so on.**\n",
    "\n",
    "# Project objective (business understanding)\n",
    "This project looks at iOS and Android mobile apps from the perspective of an analyst for a company which builds free mobile apps and makes money from ad revenue on those mobile apps. To this end, I analyze free apps by number of users to determine which kinds of apps are likely to attract more users.\n",
    "\n",
    "My goal in this project is to develop a profile or set of profiles for profitable apps on the App Store & Google Play markets. That way, the company's developers have data to inform what kind of apps they build."
   ]
  },
  {
   "cell_type": "markdown",
   "metadata": {},
   "source": [
    "According to [Statista](https://www.statista.com/statistics/276623/number-of-apps-available-in-leading-app-stores/), in September 2018 there were approximately 2 million iOS apps on the App Store, and 2.1 million Android apps on Google Play:\n",
    "<img src='https://s3.amazonaws.com/dq-content/350/py1m8_statista.png'>\n",
    "\n",
    "Since the data for all of those apps are not readily available, I will use two datasets which can function as samples of the data instead. There is [one data set](https://www.kaggle.com/lava18/google-play-store-apps/home) with approximately 10,000 Android apps from Google Play (collected Augist 2018) and [another](https://www.kaggle.com/ramamet4/app-store-apple-data-set-10k-apps/home) with approximately 7,000 iOS apps from the App Store (collected July 2017)."
   ]
  },
  {
   "cell_type": "markdown",
   "metadata": {},
   "source": [
    "# Collecting and reviewing the data (data exploration)\n",
    "**Note: I've uploaded the data to [my GitHub](https://github.com/gmayock/profitable_app_profiles). I tried to access it directly from Kaggle's servers but was unsuccessful. Please give all credit where credit is due to the appropriate creators of the datasets, as linked above.**"
   ]
  },
  {
   "cell_type": "code",
   "execution_count": 1,
   "metadata": {
    "collapsed": true
   },
   "outputs": [],
   "source": [
    "import pandas as pd\n",
    "df_google_play = pd.read_csv('https://raw.githubusercontent.com/gmayock/profitable_app_profiles/master/googleplaystore.csv')\n",
    "df_app_store = pd.read_csv('https://raw.githubusercontent.com/gmayock/profitable_app_profiles/master/AppleStore.csv', index_col=0)"
   ]
  },
  {
   "cell_type": "markdown",
   "metadata": {},
   "source": [
    "### Identifying columns which could help with my analysis\n",
    "First I print the df shape along with a list of columns to see what they contain"
   ]
  },
  {
   "cell_type": "code",
   "execution_count": 56,
   "metadata": {
    "collapsed": false
   },
   "outputs": [
    {
     "name": "stdout",
     "output_type": "stream",
     "text": [
      "Google Play: (8862, 15) \n",
      " ['App', 'Category', 'Rating', 'Reviews', 'Size', 'Installs', 'Type', 'Price', 'Content Rating', 'Genres', 'Last Updated', 'Current Ver', 'Android Ver', 'num_non_eng_chars', 'Installs_count'] \n",
      "\n",
      "App Store: (3220, 17) \n",
      " ['id', 'track_name', 'size_bytes', 'currency', 'price', 'rating_count_tot', 'rating_count_ver', 'user_rating', 'user_rating_ver', 'ver', 'cont_rating', 'prime_genre', 'sup_devices.num', 'ipadSc_urls.num', 'lang.num', 'vpp_lic', 'num_non_eng_chars']\n"
     ]
    }
   ],
   "source": [
    "print(\"Google Play:\",df_google_play.shape,\"\\n\", list(df_google_play), \"\\n\\nApp Store:\",df_app_store.shape,\"\\n\", list(df_app_store))"
   ]
  },
  {
   "cell_type": "markdown",
   "metadata": {},
   "source": [
    "Then I print the head of each dataframe to see what the data looks like. First Google:"
   ]
  },
  {
   "cell_type": "code",
   "execution_count": 3,
   "metadata": {
    "collapsed": false
   },
   "outputs": [
    {
     "data": {
      "text/html": [
       "<div>\n",
       "<style scoped>\n",
       "    .dataframe tbody tr th:only-of-type {\n",
       "        vertical-align: middle;\n",
       "    }\n",
       "\n",
       "    .dataframe tbody tr th {\n",
       "        vertical-align: top;\n",
       "    }\n",
       "\n",
       "    .dataframe thead th {\n",
       "        text-align: right;\n",
       "    }\n",
       "</style>\n",
       "<table border=\"1\" class=\"dataframe\">\n",
       "  <thead>\n",
       "    <tr style=\"text-align: right;\">\n",
       "      <th></th>\n",
       "      <th>App</th>\n",
       "      <th>Category</th>\n",
       "      <th>Rating</th>\n",
       "      <th>Reviews</th>\n",
       "      <th>Size</th>\n",
       "      <th>Installs</th>\n",
       "      <th>Type</th>\n",
       "      <th>Price</th>\n",
       "      <th>Content Rating</th>\n",
       "      <th>Genres</th>\n",
       "      <th>Last Updated</th>\n",
       "      <th>Current Ver</th>\n",
       "      <th>Android Ver</th>\n",
       "    </tr>\n",
       "  </thead>\n",
       "  <tbody>\n",
       "    <tr>\n",
       "      <th>0</th>\n",
       "      <td>Photo Editor &amp; Candy Camera &amp; Grid &amp; ScrapBook</td>\n",
       "      <td>ART_AND_DESIGN</td>\n",
       "      <td>4.1</td>\n",
       "      <td>159</td>\n",
       "      <td>19M</td>\n",
       "      <td>10,000+</td>\n",
       "      <td>Free</td>\n",
       "      <td>0</td>\n",
       "      <td>Everyone</td>\n",
       "      <td>Art &amp; Design</td>\n",
       "      <td>January 7, 2018</td>\n",
       "      <td>1.0.0</td>\n",
       "      <td>4.0.3 and up</td>\n",
       "    </tr>\n",
       "    <tr>\n",
       "      <th>1</th>\n",
       "      <td>Coloring book moana</td>\n",
       "      <td>ART_AND_DESIGN</td>\n",
       "      <td>3.9</td>\n",
       "      <td>967</td>\n",
       "      <td>14M</td>\n",
       "      <td>500,000+</td>\n",
       "      <td>Free</td>\n",
       "      <td>0</td>\n",
       "      <td>Everyone</td>\n",
       "      <td>Art &amp; Design;Pretend Play</td>\n",
       "      <td>January 15, 2018</td>\n",
       "      <td>2.0.0</td>\n",
       "      <td>4.0.3 and up</td>\n",
       "    </tr>\n",
       "    <tr>\n",
       "      <th>2</th>\n",
       "      <td>U Launcher Lite – FREE Live Cool Themes, Hide ...</td>\n",
       "      <td>ART_AND_DESIGN</td>\n",
       "      <td>4.7</td>\n",
       "      <td>87510</td>\n",
       "      <td>8.7M</td>\n",
       "      <td>5,000,000+</td>\n",
       "      <td>Free</td>\n",
       "      <td>0</td>\n",
       "      <td>Everyone</td>\n",
       "      <td>Art &amp; Design</td>\n",
       "      <td>August 1, 2018</td>\n",
       "      <td>1.2.4</td>\n",
       "      <td>4.0.3 and up</td>\n",
       "    </tr>\n",
       "    <tr>\n",
       "      <th>3</th>\n",
       "      <td>Sketch - Draw &amp; Paint</td>\n",
       "      <td>ART_AND_DESIGN</td>\n",
       "      <td>4.5</td>\n",
       "      <td>215644</td>\n",
       "      <td>25M</td>\n",
       "      <td>50,000,000+</td>\n",
       "      <td>Free</td>\n",
       "      <td>0</td>\n",
       "      <td>Teen</td>\n",
       "      <td>Art &amp; Design</td>\n",
       "      <td>June 8, 2018</td>\n",
       "      <td>Varies with device</td>\n",
       "      <td>4.2 and up</td>\n",
       "    </tr>\n",
       "    <tr>\n",
       "      <th>4</th>\n",
       "      <td>Pixel Draw - Number Art Coloring Book</td>\n",
       "      <td>ART_AND_DESIGN</td>\n",
       "      <td>4.3</td>\n",
       "      <td>967</td>\n",
       "      <td>2.8M</td>\n",
       "      <td>100,000+</td>\n",
       "      <td>Free</td>\n",
       "      <td>0</td>\n",
       "      <td>Everyone</td>\n",
       "      <td>Art &amp; Design;Creativity</td>\n",
       "      <td>June 20, 2018</td>\n",
       "      <td>1.1</td>\n",
       "      <td>4.4 and up</td>\n",
       "    </tr>\n",
       "  </tbody>\n",
       "</table>\n",
       "</div>"
      ],
      "text/plain": [
       "                                                 App        Category  Rating  \\\n",
       "0     Photo Editor & Candy Camera & Grid & ScrapBook  ART_AND_DESIGN     4.1   \n",
       "1                                Coloring book moana  ART_AND_DESIGN     3.9   \n",
       "2  U Launcher Lite – FREE Live Cool Themes, Hide ...  ART_AND_DESIGN     4.7   \n",
       "3                              Sketch - Draw & Paint  ART_AND_DESIGN     4.5   \n",
       "4              Pixel Draw - Number Art Coloring Book  ART_AND_DESIGN     4.3   \n",
       "\n",
       "  Reviews  Size     Installs  Type Price Content Rating  \\\n",
       "0     159   19M      10,000+  Free     0       Everyone   \n",
       "1     967   14M     500,000+  Free     0       Everyone   \n",
       "2   87510  8.7M   5,000,000+  Free     0       Everyone   \n",
       "3  215644   25M  50,000,000+  Free     0           Teen   \n",
       "4     967  2.8M     100,000+  Free     0       Everyone   \n",
       "\n",
       "                      Genres      Last Updated         Current Ver  \\\n",
       "0               Art & Design   January 7, 2018               1.0.0   \n",
       "1  Art & Design;Pretend Play  January 15, 2018               2.0.0   \n",
       "2               Art & Design    August 1, 2018               1.2.4   \n",
       "3               Art & Design      June 8, 2018  Varies with device   \n",
       "4    Art & Design;Creativity     June 20, 2018                 1.1   \n",
       "\n",
       "    Android Ver  \n",
       "0  4.0.3 and up  \n",
       "1  4.0.3 and up  \n",
       "2  4.0.3 and up  \n",
       "3    4.2 and up  \n",
       "4    4.4 and up  "
      ]
     },
     "execution_count": 3,
     "metadata": {},
     "output_type": "execute_result"
    }
   ],
   "source": [
    "df_google_play.head()"
   ]
  },
  {
   "cell_type": "markdown",
   "metadata": {},
   "source": [
    "Then the App Store"
   ]
  },
  {
   "cell_type": "code",
   "execution_count": 4,
   "metadata": {
    "collapsed": false
   },
   "outputs": [
    {
     "data": {
      "text/html": [
       "<div>\n",
       "<style scoped>\n",
       "    .dataframe tbody tr th:only-of-type {\n",
       "        vertical-align: middle;\n",
       "    }\n",
       "\n",
       "    .dataframe tbody tr th {\n",
       "        vertical-align: top;\n",
       "    }\n",
       "\n",
       "    .dataframe thead th {\n",
       "        text-align: right;\n",
       "    }\n",
       "</style>\n",
       "<table border=\"1\" class=\"dataframe\">\n",
       "  <thead>\n",
       "    <tr style=\"text-align: right;\">\n",
       "      <th></th>\n",
       "      <th>id</th>\n",
       "      <th>track_name</th>\n",
       "      <th>size_bytes</th>\n",
       "      <th>currency</th>\n",
       "      <th>price</th>\n",
       "      <th>rating_count_tot</th>\n",
       "      <th>rating_count_ver</th>\n",
       "      <th>user_rating</th>\n",
       "      <th>user_rating_ver</th>\n",
       "      <th>ver</th>\n",
       "      <th>cont_rating</th>\n",
       "      <th>prime_genre</th>\n",
       "      <th>sup_devices.num</th>\n",
       "      <th>ipadSc_urls.num</th>\n",
       "      <th>lang.num</th>\n",
       "      <th>vpp_lic</th>\n",
       "    </tr>\n",
       "  </thead>\n",
       "  <tbody>\n",
       "    <tr>\n",
       "      <th>1</th>\n",
       "      <td>281656475</td>\n",
       "      <td>PAC-MAN Premium</td>\n",
       "      <td>100788224</td>\n",
       "      <td>USD</td>\n",
       "      <td>3.99</td>\n",
       "      <td>21292</td>\n",
       "      <td>26</td>\n",
       "      <td>4.0</td>\n",
       "      <td>4.5</td>\n",
       "      <td>6.3.5</td>\n",
       "      <td>4+</td>\n",
       "      <td>Games</td>\n",
       "      <td>38</td>\n",
       "      <td>5</td>\n",
       "      <td>10</td>\n",
       "      <td>1</td>\n",
       "    </tr>\n",
       "    <tr>\n",
       "      <th>2</th>\n",
       "      <td>281796108</td>\n",
       "      <td>Evernote - stay organized</td>\n",
       "      <td>158578688</td>\n",
       "      <td>USD</td>\n",
       "      <td>0.00</td>\n",
       "      <td>161065</td>\n",
       "      <td>26</td>\n",
       "      <td>4.0</td>\n",
       "      <td>3.5</td>\n",
       "      <td>8.2.2</td>\n",
       "      <td>4+</td>\n",
       "      <td>Productivity</td>\n",
       "      <td>37</td>\n",
       "      <td>5</td>\n",
       "      <td>23</td>\n",
       "      <td>1</td>\n",
       "    </tr>\n",
       "    <tr>\n",
       "      <th>3</th>\n",
       "      <td>281940292</td>\n",
       "      <td>WeatherBug - Local Weather, Radar, Maps, Alerts</td>\n",
       "      <td>100524032</td>\n",
       "      <td>USD</td>\n",
       "      <td>0.00</td>\n",
       "      <td>188583</td>\n",
       "      <td>2822</td>\n",
       "      <td>3.5</td>\n",
       "      <td>4.5</td>\n",
       "      <td>5.0.0</td>\n",
       "      <td>4+</td>\n",
       "      <td>Weather</td>\n",
       "      <td>37</td>\n",
       "      <td>5</td>\n",
       "      <td>3</td>\n",
       "      <td>1</td>\n",
       "    </tr>\n",
       "    <tr>\n",
       "      <th>4</th>\n",
       "      <td>282614216</td>\n",
       "      <td>eBay: Best App to Buy, Sell, Save! Online Shop...</td>\n",
       "      <td>128512000</td>\n",
       "      <td>USD</td>\n",
       "      <td>0.00</td>\n",
       "      <td>262241</td>\n",
       "      <td>649</td>\n",
       "      <td>4.0</td>\n",
       "      <td>4.5</td>\n",
       "      <td>5.10.0</td>\n",
       "      <td>12+</td>\n",
       "      <td>Shopping</td>\n",
       "      <td>37</td>\n",
       "      <td>5</td>\n",
       "      <td>9</td>\n",
       "      <td>1</td>\n",
       "    </tr>\n",
       "    <tr>\n",
       "      <th>5</th>\n",
       "      <td>282935706</td>\n",
       "      <td>Bible</td>\n",
       "      <td>92774400</td>\n",
       "      <td>USD</td>\n",
       "      <td>0.00</td>\n",
       "      <td>985920</td>\n",
       "      <td>5320</td>\n",
       "      <td>4.5</td>\n",
       "      <td>5.0</td>\n",
       "      <td>7.5.1</td>\n",
       "      <td>4+</td>\n",
       "      <td>Reference</td>\n",
       "      <td>37</td>\n",
       "      <td>5</td>\n",
       "      <td>45</td>\n",
       "      <td>1</td>\n",
       "    </tr>\n",
       "  </tbody>\n",
       "</table>\n",
       "</div>"
      ],
      "text/plain": [
       "          id                                         track_name  size_bytes  \\\n",
       "1  281656475                                    PAC-MAN Premium   100788224   \n",
       "2  281796108                          Evernote - stay organized   158578688   \n",
       "3  281940292    WeatherBug - Local Weather, Radar, Maps, Alerts   100524032   \n",
       "4  282614216  eBay: Best App to Buy, Sell, Save! Online Shop...   128512000   \n",
       "5  282935706                                              Bible    92774400   \n",
       "\n",
       "  currency  price  rating_count_tot  rating_count_ver  user_rating  \\\n",
       "1      USD   3.99             21292                26          4.0   \n",
       "2      USD   0.00            161065                26          4.0   \n",
       "3      USD   0.00            188583              2822          3.5   \n",
       "4      USD   0.00            262241               649          4.0   \n",
       "5      USD   0.00            985920              5320          4.5   \n",
       "\n",
       "   user_rating_ver     ver cont_rating   prime_genre  sup_devices.num  \\\n",
       "1              4.5   6.3.5          4+         Games               38   \n",
       "2              3.5   8.2.2          4+  Productivity               37   \n",
       "3              4.5   5.0.0          4+       Weather               37   \n",
       "4              4.5  5.10.0         12+      Shopping               37   \n",
       "5              5.0   7.5.1          4+     Reference               37   \n",
       "\n",
       "   ipadSc_urls.num  lang.num  vpp_lic  \n",
       "1                5        10        1  \n",
       "2                5        23        1  \n",
       "3                5         3        1  \n",
       "4                5         9        1  \n",
       "5                5        45        1  "
      ]
     },
     "execution_count": 4,
     "metadata": {},
     "output_type": "execute_result"
    }
   ],
   "source": [
    "df_app_store.head()"
   ]
  },
  {
   "cell_type": "markdown",
   "metadata": {},
   "source": [
    "Now I'll print the unique values counts ([nunique](https://pandas.pydata.org/pandas-docs/stable/reference/api/pandas.Series.nunique.html)): "
   ]
  },
  {
   "cell_type": "code",
   "execution_count": 57,
   "metadata": {
    "collapsed": false
   },
   "outputs": [
    {
     "name": "stdout",
     "output_type": "stream",
     "text": [
      "Google Play:\n",
      " App                  8862\n",
      "Category               33\n",
      "Rating                 39\n",
      "Reviews              5121\n",
      "Size                  406\n",
      "Installs               21\n",
      "Type                    1\n",
      "Price                   1\n",
      "Content Rating          6\n",
      "Genres                115\n",
      "Last Updated         1273\n",
      "Current Ver          2695\n",
      "Android Ver            33\n",
      "num_non_eng_chars       4\n",
      "Installs_count         20\n",
      "dtype: int64 (8862, 15) \n",
      "\n",
      "App Store:\n",
      " id                   3220\n",
      "track_name           3220\n",
      "size_bytes           3203\n",
      "currency                1\n",
      "price                   1\n",
      "rating_count_tot     2201\n",
      "rating_count_ver      875\n",
      "user_rating            10\n",
      "user_rating_ver        10\n",
      "ver                  1130\n",
      "cont_rating             4\n",
      "prime_genre            23\n",
      "sup_devices.num        18\n",
      "ipadSc_urls.num         6\n",
      "lang.num               56\n",
      "vpp_lic                 2\n",
      "num_non_eng_chars       4\n",
      "dtype: int64 (3220, 17)\n"
     ]
    }
   ],
   "source": [
    "print(\"Google Play:\\n\",df_google_play.nunique(), df_google_play.shape,\"\\n\\nApp Store:\\n\", df_app_store.nunique(), df_app_store.shape)"
   ]
  },
  {
   "cell_type": "markdown",
   "metadata": {},
   "source": [
    "### Summary \n",
    "Some features that stick out from Google Play are:\n",
    "* Category \n",
    "* Genres\n",
    "* Rating\n",
    "* Reviews\n",
    "* Installs\n",
    "* Price\n",
    "\n",
    "For the App Store:\n",
    "* prime_genre\n",
    "* rating_count_tot\n",
    "* user_rating\n",
    "* price"
   ]
  },
  {
   "cell_type": "markdown",
   "metadata": {},
   "source": [
    "# Cleaning the data for analysis (data preparation)\n",
    "The next step it to remove data which is not going to be relevant for this project. First I'll remove wrong information - bad lines etc - and then, since the goal is to build a free app in English, I will remove information which doesn't fit those parameters.\n",
    "\n",
    "## Google Play data\n",
    "### Removing a row which was scraped wrong\n",
    "A quick look at the [discussion forum](https://www.kaggle.com/lava18/google-play-store-apps/discussion/81460) on Kaggle for the Google Play data set reveals a shift of the cells for index 10472 as well. Let's look at that first."
   ]
  },
  {
   "cell_type": "code",
   "execution_count": 6,
   "metadata": {
    "collapsed": false
   },
   "outputs": [
    {
     "data": {
      "text/html": [
       "<div>\n",
       "<style scoped>\n",
       "    .dataframe tbody tr th:only-of-type {\n",
       "        vertical-align: middle;\n",
       "    }\n",
       "\n",
       "    .dataframe tbody tr th {\n",
       "        vertical-align: top;\n",
       "    }\n",
       "\n",
       "    .dataframe thead th {\n",
       "        text-align: right;\n",
       "    }\n",
       "</style>\n",
       "<table border=\"1\" class=\"dataframe\">\n",
       "  <thead>\n",
       "    <tr style=\"text-align: right;\">\n",
       "      <th></th>\n",
       "      <th>App</th>\n",
       "      <th>Category</th>\n",
       "      <th>Rating</th>\n",
       "      <th>Reviews</th>\n",
       "      <th>Size</th>\n",
       "      <th>Installs</th>\n",
       "      <th>Type</th>\n",
       "      <th>Price</th>\n",
       "      <th>Content Rating</th>\n",
       "      <th>Genres</th>\n",
       "      <th>Last Updated</th>\n",
       "      <th>Current Ver</th>\n",
       "      <th>Android Ver</th>\n",
       "    </tr>\n",
       "  </thead>\n",
       "  <tbody>\n",
       "    <tr>\n",
       "      <th>10472</th>\n",
       "      <td>Life Made WI-Fi Touchscreen Photo Frame</td>\n",
       "      <td>1.9</td>\n",
       "      <td>19.0</td>\n",
       "      <td>3.0M</td>\n",
       "      <td>1,000+</td>\n",
       "      <td>Free</td>\n",
       "      <td>0</td>\n",
       "      <td>Everyone</td>\n",
       "      <td>NaN</td>\n",
       "      <td>February 11, 2018</td>\n",
       "      <td>1.0.19</td>\n",
       "      <td>4.0 and up</td>\n",
       "      <td>NaN</td>\n",
       "    </tr>\n",
       "  </tbody>\n",
       "</table>\n",
       "</div>"
      ],
      "text/plain": [
       "                                           App Category  Rating Reviews  \\\n",
       "10472  Life Made WI-Fi Touchscreen Photo Frame      1.9    19.0    3.0M   \n",
       "\n",
       "         Size Installs Type     Price Content Rating             Genres  \\\n",
       "10472  1,000+     Free    0  Everyone            NaN  February 11, 2018   \n",
       "\n",
       "      Last Updated Current Ver Android Ver  \n",
       "10472       1.0.19  4.0 and up         NaN  "
      ]
     },
     "execution_count": 6,
     "metadata": {},
     "output_type": "execute_result"
    }
   ],
   "source": [
    "df_google_play[10472:10473]"
   ]
  },
  {
   "cell_type": "markdown",
   "metadata": {},
   "source": [
    "It looks like the error is still in the dataset. I could try to fix the data, or simply delete it. Let's consider fixing it.\n",
    "\n",
    "#### Why I can't fix the row with wrong values\n",
    "To fix it, I would need to shift the content of the cells over one to the left, then manually enter the value which was supposed to be in \"Category\", as that's the cell which is overwritten. \n",
    "\n",
    "From my data exploration above, it looks like the \"Genres\" feature maps to the \"Category\" feature. However, for this row, the \"Genres\" feature is blank. Therefore, I can't use that in this instance. Therefore I'll delete it.\n",
    "\n",
    "#### Deleting it using loc\n",
    "I could in theory drop the row by the index. However, it's better with Jupyter Notebooks to drop it in a way that won't cause an error if the cell is ran more than once. The method I use can be ran multiple times without throwing an error, as you see below:"
   ]
  },
  {
   "cell_type": "code",
   "execution_count": 7,
   "metadata": {
    "collapsed": false
   },
   "outputs": [
    {
     "data": {
      "text/plain": [
       "(10840, 13)"
      ]
     },
     "execution_count": 7,
     "metadata": {},
     "output_type": "execute_result"
    }
   ],
   "source": [
    "df_google_play = df_google_play.loc[df_google_play['App'] != 'Life Made WI-Fi Touchscreen Photo Frame']\n",
    "df_google_play.shape"
   ]
  },
  {
   "cell_type": "code",
   "execution_count": 8,
   "metadata": {
    "collapsed": false
   },
   "outputs": [
    {
     "data": {
      "text/plain": [
       "(10840, 13)"
      ]
     },
     "execution_count": 8,
     "metadata": {},
     "output_type": "execute_result"
    }
   ],
   "source": [
    "df_google_play = df_google_play.loc[df_google_play['App'] != 'Life Made WI-Fi Touchscreen Photo Frame']\n",
    "df_google_play.shape"
   ]
  },
  {
   "cell_type": "markdown",
   "metadata": {},
   "source": [
    "### Dropping duplicate rows\n",
    "#### Dropping duplicate rows using drop_duplicates()\n",
    "It looks like the discussion forum mentions some duplicate rows, as well, so we'll take care of that with [pandas.DataFrame.drop_duplicates()](https://pandas.pydata.org/pandas-docs/version/0.17/generated/pandas.DataFrame.drop_duplicates.html). However, it's important to note that these duplicates vary mostly in number of reviews. Therefore I will make sure the \"Reviews\" column does not factor in."
   ]
  },
  {
   "cell_type": "code",
   "execution_count": 9,
   "metadata": {
    "collapsed": false
   },
   "outputs": [
    {
     "data": {
      "text/plain": [
       "(9782, 13)"
      ]
     },
     "execution_count": 9,
     "metadata": {},
     "output_type": "execute_result"
    }
   ],
   "source": [
    "col_list = list(df_google_play)\n",
    "okay_to_drop_non_dupe = ['Reviews']\n",
    "drop_dupe_list = [col for col in col_list if col not in okay_to_drop_non_dupe]\n",
    "df_google_play_test = df_google_play.drop_duplicates(subset=drop_dupe_list)\n",
    "df_google_play_test.shape"
   ]
  },
  {
   "cell_type": "markdown",
   "metadata": {},
   "source": [
    "That removes over a thousand rows, or nearly 10% of the data. But perhaps this isn't the best way to do this, for two reasons:\n",
    "1. It drops the rows randomly\n",
    "2. It doesn't necessarily result in a single row for each app\n",
    "\n",
    "To point one: if the number of reviews is different, it likely indicates the information was pulled at different times, because logically the number of reviews should only be able to go up. Therefore, it's more logical to keep the row with the highest number of reviews.\n",
    "\n",
    "To point two: there are 9660 unique values for the App, as seen above when I ran *df\\_google\\_play.nunique()*. This could be caused by any number of the other columns.\n",
    "\n",
    "For example, since the rows may have been pulled on different dates, it's possible that \"Last Updated\" is causing duplicates which wouldn't be dropped by the above method. \n",
    "\n",
    "#### Dropping duplicate rows after sorting the dataframe\n",
    "Let's see what it looks like if we drop duplicates with the subset being only \"App\". In order to incorporate the learnings from point one, first I'll sort the dataframe by \"Reviews\" first."
   ]
  },
  {
   "cell_type": "code",
   "execution_count": 10,
   "metadata": {
    "collapsed": false
   },
   "outputs": [
    {
     "data": {
      "text/plain": [
       "(9659, 13)"
      ]
     },
     "execution_count": 10,
     "metadata": {},
     "output_type": "execute_result"
    }
   ],
   "source": [
    "df_google_play_test = df_google_play.sort_values(by=\"Reviews\", ascending=False)\n",
    "df_google_play_test = df_google_play_test.drop_duplicates(subset=\"App\")\n",
    "df_google_play_test.shape"
   ]
  },
  {
   "cell_type": "markdown",
   "metadata": {},
   "source": [
    "9,660 unique values, minus the one we dropped ('Life Made WI-Fi Touchscreen Photo Frame'), resulting in 9,659 unique rows. Wonderful. Now I'll assign this back to df_google_play."
   ]
  },
  {
   "cell_type": "code",
   "execution_count": 11,
   "metadata": {
    "collapsed": false
   },
   "outputs": [
    {
     "data": {
      "text/plain": [
       "(9659, 13)"
      ]
     },
     "execution_count": 11,
     "metadata": {},
     "output_type": "execute_result"
    }
   ],
   "source": [
    "df_google_play = df_google_play_test.copy()\n",
    "df_google_play.shape"
   ]
  },
  {
   "cell_type": "markdown",
   "metadata": {},
   "source": [
    "### Removing non-free apps"
   ]
  },
  {
   "cell_type": "code",
   "execution_count": 12,
   "metadata": {
    "collapsed": false
   },
   "outputs": [
    {
     "data": {
      "text/plain": [
       "((8903, 13), 0    8903\n",
       " Name: Price, dtype: int64)"
      ]
     },
     "execution_count": 12,
     "metadata": {},
     "output_type": "execute_result"
    }
   ],
   "source": [
    "df_google_play = df_google_play.loc[df_google_play['Price'] == '0']\n",
    "df_google_play.shape, df_google_play['Price'].value_counts()"
   ]
  },
  {
   "cell_type": "markdown",
   "metadata": {},
   "source": [
    "### Removing non-English apps\n",
    "It's somewhat difficult to remove non-English apps from the Google Play data set as it does not explicitly state the language of the app. \n",
    "\n",
    "The suggested way to address this is to filter out apps with three or more non-standard (ordinal above 127) ASCII characters. This is used as a proxy for foreign language, although due to the pervasiveness of non-standard characters in modern app names - \"Lep's World 3 🍀🍀🍀\" comes to mind, or \"► MultiCraft ― Free Miner! 👍\" - it's not a perfect method.\n",
    "\n",
    "Nevertheless, it is the method I will use at this time. Other methods which were considered but ultimately refused:\n",
    "1. I could use the ASCII characters between 128 and 255 to denote non-English (thus omitting the emojis, etc)\n",
    "2. I could find ranges for the ordinal of the emojis and use ASCII characters between 128 and the ordinal start of the emojis to denote non-English (thus omitting the emojis but including characters like kanji, hiragana, etc).\n",
    "3. I could look for supplementary data sources"
   ]
  },
  {
   "cell_type": "code",
   "execution_count": 13,
   "metadata": {
    "collapsed": true
   },
   "outputs": [],
   "source": [
    "import string\n",
    "\n",
    "def nonEnglishCharacterCount(app_name):\n",
    "    non_eng_char_ct = 0\n",
    "    for character in app_name:\n",
    "        if ord(character) > 127:\n",
    "            non_eng_char_ct += 1\n",
    "    return non_eng_char_ct"
   ]
  },
  {
   "cell_type": "code",
   "execution_count": 14,
   "metadata": {
    "collapsed": false
   },
   "outputs": [],
   "source": [
    "df_google_play['num_non_eng_chars'] = [nonEnglishCharacterCount(i) for i in df_google_play['App']]"
   ]
  },
  {
   "cell_type": "code",
   "execution_count": 15,
   "metadata": {
    "collapsed": false,
    "scrolled": false
   },
   "outputs": [
    {
     "data": {
      "text/plain": [
       "(8862, 14)"
      ]
     },
     "execution_count": 15,
     "metadata": {},
     "output_type": "execute_result"
    }
   ],
   "source": [
    "df_google_play = df_google_play.loc[df_google_play['num_non_eng_chars'] <= 3]\n",
    "df_google_play.shape"
   ]
  },
  {
   "cell_type": "markdown",
   "metadata": {},
   "source": [
    "## App Store data\n",
    "### Remove non-English apps"
   ]
  },
  {
   "cell_type": "code",
   "execution_count": 16,
   "metadata": {
    "collapsed": false
   },
   "outputs": [
    {
     "data": {
      "text/plain": [
       "(7197, 16)"
      ]
     },
     "execution_count": 16,
     "metadata": {},
     "output_type": "execute_result"
    }
   ],
   "source": [
    "df_app_store.shape"
   ]
  },
  {
   "cell_type": "code",
   "execution_count": 17,
   "metadata": {
    "collapsed": false
   },
   "outputs": [
    {
     "data": {
      "text/plain": [
       "(6183, 17)"
      ]
     },
     "execution_count": 17,
     "metadata": {},
     "output_type": "execute_result"
    }
   ],
   "source": [
    "df_app_store['num_non_eng_chars'] = [nonEnglishCharacterCount(i) for i in df_app_store['track_name']]\n",
    "df_app_store = df_app_store.loc[df_app_store['num_non_eng_chars'] <= 3]\n",
    "df_app_store.shape"
   ]
  },
  {
   "cell_type": "code",
   "execution_count": 18,
   "metadata": {
    "collapsed": false
   },
   "outputs": [
    {
     "data": {
      "text/plain": [
       "id                     int64\n",
       "track_name            object\n",
       "size_bytes             int64\n",
       "currency              object\n",
       "price                float64\n",
       "rating_count_tot       int64\n",
       "rating_count_ver       int64\n",
       "user_rating          float64\n",
       "user_rating_ver      float64\n",
       "ver                   object\n",
       "cont_rating           object\n",
       "prime_genre           object\n",
       "sup_devices.num        int64\n",
       "ipadSc_urls.num        int64\n",
       "lang.num               int64\n",
       "vpp_lic                int64\n",
       "num_non_eng_chars      int64\n",
       "dtype: object"
      ]
     },
     "execution_count": 18,
     "metadata": {},
     "output_type": "execute_result"
    }
   ],
   "source": [
    "df_app_store.dtypes"
   ]
  },
  {
   "cell_type": "markdown",
   "metadata": {},
   "source": [
    "### Removing non-Free apps"
   ]
  },
  {
   "cell_type": "code",
   "execution_count": 19,
   "metadata": {
    "collapsed": false
   },
   "outputs": [
    {
     "data": {
      "text/plain": [
       "((3222, 17), 0.0    3222\n",
       " Name: price, dtype: int64)"
      ]
     },
     "execution_count": 19,
     "metadata": {},
     "output_type": "execute_result"
    }
   ],
   "source": [
    "df_app_store = df_app_store.loc[df_app_store['price'] == 0]\n",
    "df_app_store.shape, df_app_store['price'].value_counts()"
   ]
  },
  {
   "cell_type": "markdown",
   "metadata": {},
   "source": [
    "### Removing duplicates\n",
    "There are 7195 unique track_names, and 7197 rows. Let's see what the difference for those two are."
   ]
  },
  {
   "cell_type": "code",
   "execution_count": 20,
   "metadata": {
    "collapsed": false
   },
   "outputs": [
    {
     "data": {
      "text/html": [
       "<div>\n",
       "<style scoped>\n",
       "    .dataframe tbody tr th:only-of-type {\n",
       "        vertical-align: middle;\n",
       "    }\n",
       "\n",
       "    .dataframe tbody tr th {\n",
       "        vertical-align: top;\n",
       "    }\n",
       "\n",
       "    .dataframe thead th {\n",
       "        text-align: right;\n",
       "    }\n",
       "</style>\n",
       "<table border=\"1\" class=\"dataframe\">\n",
       "  <thead>\n",
       "    <tr style=\"text-align: right;\">\n",
       "      <th></th>\n",
       "      <th>id</th>\n",
       "      <th>track_name</th>\n",
       "      <th>size_bytes</th>\n",
       "      <th>currency</th>\n",
       "      <th>price</th>\n",
       "      <th>rating_count_tot</th>\n",
       "      <th>rating_count_ver</th>\n",
       "      <th>user_rating</th>\n",
       "      <th>user_rating_ver</th>\n",
       "      <th>ver</th>\n",
       "      <th>cont_rating</th>\n",
       "      <th>prime_genre</th>\n",
       "      <th>sup_devices.num</th>\n",
       "      <th>ipadSc_urls.num</th>\n",
       "      <th>lang.num</th>\n",
       "      <th>vpp_lic</th>\n",
       "      <th>num_non_eng_chars</th>\n",
       "    </tr>\n",
       "  </thead>\n",
       "  <tbody>\n",
       "    <tr>\n",
       "      <th>10751</th>\n",
       "      <td>1173990889</td>\n",
       "      <td>Mannequin Challenge</td>\n",
       "      <td>109705216</td>\n",
       "      <td>USD</td>\n",
       "      <td>0.0</td>\n",
       "      <td>668</td>\n",
       "      <td>87</td>\n",
       "      <td>3.0</td>\n",
       "      <td>3.0</td>\n",
       "      <td>1.4</td>\n",
       "      <td>9+</td>\n",
       "      <td>Games</td>\n",
       "      <td>37</td>\n",
       "      <td>4</td>\n",
       "      <td>1</td>\n",
       "      <td>1</td>\n",
       "      <td>0</td>\n",
       "    </tr>\n",
       "    <tr>\n",
       "      <th>10885</th>\n",
       "      <td>1178454060</td>\n",
       "      <td>Mannequin Challenge</td>\n",
       "      <td>59572224</td>\n",
       "      <td>USD</td>\n",
       "      <td>0.0</td>\n",
       "      <td>105</td>\n",
       "      <td>58</td>\n",
       "      <td>4.0</td>\n",
       "      <td>4.5</td>\n",
       "      <td>1.0.1</td>\n",
       "      <td>4+</td>\n",
       "      <td>Games</td>\n",
       "      <td>38</td>\n",
       "      <td>5</td>\n",
       "      <td>1</td>\n",
       "      <td>1</td>\n",
       "      <td>0</td>\n",
       "    </tr>\n",
       "  </tbody>\n",
       "</table>\n",
       "</div>"
      ],
      "text/plain": [
       "               id           track_name  size_bytes currency  price  \\\n",
       "10751  1173990889  Mannequin Challenge   109705216      USD    0.0   \n",
       "10885  1178454060  Mannequin Challenge    59572224      USD    0.0   \n",
       "\n",
       "       rating_count_tot  rating_count_ver  user_rating  user_rating_ver  \\\n",
       "10751               668                87          3.0              3.0   \n",
       "10885               105                58          4.0              4.5   \n",
       "\n",
       "         ver cont_rating prime_genre  sup_devices.num  ipadSc_urls.num  \\\n",
       "10751    1.4          9+       Games               37                4   \n",
       "10885  1.0.1          4+       Games               38                5   \n",
       "\n",
       "       lang.num  vpp_lic  num_non_eng_chars  \n",
       "10751         1        1                  0  \n",
       "10885         1        1                  0  "
      ]
     },
     "execution_count": 20,
     "metadata": {},
     "output_type": "execute_result"
    }
   ],
   "source": [
    "dupe_list = ['Mannequin Challenge', 'VR Roller Coaster']\n",
    "df_check1 = df_app_store.loc[df_app_store['track_name'] == dupe_list[0]]\n",
    "df_check2 = df_app_store.loc[df_app_store['track_name'] == dupe_list[1]]\n",
    "df_check1\n",
    "# df_check2"
   ]
  },
  {
   "cell_type": "code",
   "execution_count": 21,
   "metadata": {
    "collapsed": false
   },
   "outputs": [
    {
     "data": {
      "text/html": [
       "<div>\n",
       "<style scoped>\n",
       "    .dataframe tbody tr th:only-of-type {\n",
       "        vertical-align: middle;\n",
       "    }\n",
       "\n",
       "    .dataframe tbody tr th {\n",
       "        vertical-align: top;\n",
       "    }\n",
       "\n",
       "    .dataframe thead th {\n",
       "        text-align: right;\n",
       "    }\n",
       "</style>\n",
       "<table border=\"1\" class=\"dataframe\">\n",
       "  <thead>\n",
       "    <tr style=\"text-align: right;\">\n",
       "      <th></th>\n",
       "      <th>id</th>\n",
       "      <th>track_name</th>\n",
       "      <th>size_bytes</th>\n",
       "      <th>currency</th>\n",
       "      <th>price</th>\n",
       "      <th>rating_count_tot</th>\n",
       "      <th>rating_count_ver</th>\n",
       "      <th>user_rating</th>\n",
       "      <th>user_rating_ver</th>\n",
       "      <th>ver</th>\n",
       "      <th>cont_rating</th>\n",
       "      <th>prime_genre</th>\n",
       "      <th>sup_devices.num</th>\n",
       "      <th>ipadSc_urls.num</th>\n",
       "      <th>lang.num</th>\n",
       "      <th>vpp_lic</th>\n",
       "      <th>num_non_eng_chars</th>\n",
       "    </tr>\n",
       "  </thead>\n",
       "  <tbody>\n",
       "    <tr>\n",
       "      <th>4000</th>\n",
       "      <td>952877179</td>\n",
       "      <td>VR Roller Coaster</td>\n",
       "      <td>169523200</td>\n",
       "      <td>USD</td>\n",
       "      <td>0.0</td>\n",
       "      <td>107</td>\n",
       "      <td>102</td>\n",
       "      <td>3.5</td>\n",
       "      <td>3.5</td>\n",
       "      <td>2.0.0</td>\n",
       "      <td>4+</td>\n",
       "      <td>Games</td>\n",
       "      <td>37</td>\n",
       "      <td>5</td>\n",
       "      <td>1</td>\n",
       "      <td>1</td>\n",
       "      <td>0</td>\n",
       "    </tr>\n",
       "    <tr>\n",
       "      <th>7579</th>\n",
       "      <td>1089824278</td>\n",
       "      <td>VR Roller Coaster</td>\n",
       "      <td>240964608</td>\n",
       "      <td>USD</td>\n",
       "      <td>0.0</td>\n",
       "      <td>67</td>\n",
       "      <td>44</td>\n",
       "      <td>3.5</td>\n",
       "      <td>4.0</td>\n",
       "      <td>0.81</td>\n",
       "      <td>4+</td>\n",
       "      <td>Games</td>\n",
       "      <td>38</td>\n",
       "      <td>0</td>\n",
       "      <td>1</td>\n",
       "      <td>1</td>\n",
       "      <td>0</td>\n",
       "    </tr>\n",
       "  </tbody>\n",
       "</table>\n",
       "</div>"
      ],
      "text/plain": [
       "              id         track_name  size_bytes currency  price  \\\n",
       "4000   952877179  VR Roller Coaster   169523200      USD    0.0   \n",
       "7579  1089824278  VR Roller Coaster   240964608      USD    0.0   \n",
       "\n",
       "      rating_count_tot  rating_count_ver  user_rating  user_rating_ver    ver  \\\n",
       "4000               107               102          3.5              3.5  2.0.0   \n",
       "7579                67                44          3.5              4.0   0.81   \n",
       "\n",
       "     cont_rating prime_genre  sup_devices.num  ipadSc_urls.num  lang.num  \\\n",
       "4000          4+       Games               37                5         1   \n",
       "7579          4+       Games               38                0         1   \n",
       "\n",
       "      vpp_lic  num_non_eng_chars  \n",
       "4000        1                  0  \n",
       "7579        1                  0  "
      ]
     },
     "execution_count": 21,
     "metadata": {},
     "output_type": "execute_result"
    }
   ],
   "source": [
    "df_check2"
   ]
  },
  {
   "cell_type": "markdown",
   "metadata": {},
   "source": [
    "At a  glance, it looks like an old version is left in the list. There were no discussions about this at the source of the data, so I [started one](https://www.kaggle.com/ramamet4/app-store-apple-data-set-10k-apps/discussion/90409). We'll see if anything comes of it.\n",
    "\n",
    "In the meantime, let's drop_duplicates as before."
   ]
  },
  {
   "cell_type": "code",
   "execution_count": 22,
   "metadata": {
    "collapsed": false
   },
   "outputs": [
    {
     "data": {
      "text/plain": [
       "(3220, 17)"
      ]
     },
     "execution_count": 22,
     "metadata": {},
     "output_type": "execute_result"
    }
   ],
   "source": [
    "df_app_store = df_app_store.sort_values(by='ver', ascending=False)\n",
    "df_app_store = df_app_store.drop_duplicates(subset='track_name')\n",
    "df_app_store.shape"
   ]
  },
  {
   "cell_type": "markdown",
   "metadata": {},
   "source": [
    "Alright, it worked.\n",
    "\n",
    "# Understanding what data we need (business understanding)\n",
    "We have the data filtered to relevant information (free, English-language, non-duplicate apps), but what are we really looking for? \n",
    "\n",
    "The business objective is to develop a _successful_ app. Therefore, we should explore the data to determine which apps are successful on both Google Play and the App Store. \n",
    "\n",
    "The standard operating procedure for companies building this sort of app has three steps:\n",
    "1. Build a minimal version of the app on Google Play\n",
    "2. If the app has a good response, develop it further\n",
    "3. If the app is profitable after a short time, port it to the App Store\n",
    "\n",
    "The order of operating systems to develop can be switched depending on company competency, etc.\n",
    "\n",
    "Nevertheless, it's important that we build a profile of apps which are successful on both Google Play _and_ the App Store, or we'll be leaving behind a large portion of the market ([about 45%](https://www.statista.com/statistics/266572/market-share-held-by-smartphone-platforms-in-the-united-states/)) which is accessible for presumably much less work than building a new app from scratch."
   ]
  },
  {
   "cell_type": "markdown",
   "metadata": {
    "collapsed": true
   },
   "source": [
    "# Building the profile of a successful app (data analysis)\n",
    "## Genre\n",
    "First things first, let's explore which genres are most common in each market."
   ]
  },
  {
   "cell_type": "code",
   "execution_count": 23,
   "metadata": {
    "collapsed": false
   },
   "outputs": [
    {
     "data": {
      "text/plain": [
       "Tools                                  0.084405\n",
       "Entertainment                          0.060709\n",
       "Education                              0.053487\n",
       "Business                               0.045926\n",
       "Lifestyle                              0.038930\n",
       "Productivity                           0.038930\n",
       "Finance                                0.037012\n",
       "Medical                                0.035206\n",
       "Sports                                 0.034642\n",
       "Personalization                        0.033175\n",
       "Communication                          0.032385\n",
       "Action                                 0.031031\n",
       "Health & Fitness                       0.030806\n",
       "Photography                            0.029452\n",
       "News & Magazines                       0.027985\n",
       "Social                                 0.026631\n",
       "Travel & Local                         0.023245\n",
       "Shopping                               0.022455\n",
       "Books & Reference                      0.021440\n",
       "Simulation                             0.020424\n",
       "Dating                                 0.018619\n",
       "Arcade                                 0.018506\n",
       "Video Players & Editors                0.017716\n",
       "Casual                                 0.017490\n",
       "Maps & Navigation                      0.013992\n",
       "Food & Drink                           0.012413\n",
       "Puzzle                                 0.011284\n",
       "Racing                                 0.009930\n",
       "Libraries & Demo                       0.009366\n",
       "Role Playing                           0.009366\n",
       "                                         ...   \n",
       "Board;Action & Adventure               0.000226\n",
       "Music;Music & Video                    0.000226\n",
       "Comics;Creativity                      0.000113\n",
       "Strategy;Education                     0.000113\n",
       "Art & Design;Action & Adventure        0.000113\n",
       "Health & Fitness;Education             0.000113\n",
       "Books & Reference;Education            0.000113\n",
       "Parenting;Brain Games                  0.000113\n",
       "Art & Design;Pretend Play              0.000113\n",
       "Casual;Music & Video                   0.000113\n",
       "Travel & Local;Action & Adventure      0.000113\n",
       "Strategy;Creativity                    0.000113\n",
       "Role Playing;Brain Games               0.000113\n",
       "Video Players & Editors;Creativity     0.000113\n",
       "Entertainment;Education                0.000113\n",
       "Health & Fitness;Action & Adventure    0.000113\n",
       "Puzzle;Education                       0.000113\n",
       "Lifestyle;Education                    0.000113\n",
       "Simulation;Education                   0.000113\n",
       "Racing;Pretend Play                    0.000113\n",
       "Tools;Education                        0.000113\n",
       "Strategy;Action & Adventure            0.000113\n",
       "Adventure;Education                    0.000113\n",
       "Trivia;Education                       0.000113\n",
       "Lifestyle;Pretend Play                 0.000113\n",
       "Arcade;Pretend Play                    0.000113\n",
       "Communication;Creativity               0.000113\n",
       "Card;Action & Adventure                0.000113\n",
       "Card;Brain Games                       0.000113\n",
       "Music & Audio;Music & Video            0.000113\n",
       "Name: Genres, Length: 115, dtype: float64"
      ]
     },
     "execution_count": 23,
     "metadata": {},
     "output_type": "execute_result"
    }
   ],
   "source": [
    "# print(df_google_play['Genres'].value_counts().to_dict())\n",
    "df_google_play['Genres'].value_counts(normalize=True)"
   ]
  },
  {
   "cell_type": "code",
   "execution_count": 24,
   "metadata": {
    "collapsed": false
   },
   "outputs": [
    {
     "data": {
      "text/plain": [
       "FAMILY                 0.189461\n",
       "GAME                   0.096931\n",
       "TOOLS                  0.084518\n",
       "BUSINESS               0.045926\n",
       "LIFESTYLE              0.039043\n",
       "PRODUCTIVITY           0.038930\n",
       "FINANCE                0.037012\n",
       "MEDICAL                0.035206\n",
       "SPORTS                 0.033965\n",
       "PERSONALIZATION        0.033175\n",
       "COMMUNICATION          0.032385\n",
       "HEALTH_AND_FITNESS     0.030806\n",
       "PHOTOGRAPHY            0.029452\n",
       "NEWS_AND_MAGAZINES     0.027985\n",
       "SOCIAL                 0.026631\n",
       "TRAVEL_AND_LOCAL       0.023358\n",
       "SHOPPING               0.022455\n",
       "BOOKS_AND_REFERENCE    0.021440\n",
       "DATING                 0.018619\n",
       "VIDEO_PLAYERS          0.017942\n",
       "MAPS_AND_NAVIGATION    0.013992\n",
       "FOOD_AND_DRINK         0.012413\n",
       "EDUCATION              0.011735\n",
       "ENTERTAINMENT          0.009479\n",
       "LIBRARIES_AND_DEMO     0.009366\n",
       "AUTO_AND_VEHICLES      0.009253\n",
       "HOUSE_AND_HOME         0.008237\n",
       "WEATHER                0.008012\n",
       "EVENTS                 0.007109\n",
       "PARENTING              0.006545\n",
       "ART_AND_DESIGN         0.006432\n",
       "COMICS                 0.006206\n",
       "BEAUTY                 0.005981\n",
       "Name: Category, dtype: float64"
      ]
     },
     "execution_count": 24,
     "metadata": {},
     "output_type": "execute_result"
    }
   ],
   "source": [
    "# print(df_google_play['Category'].value_counts().to_dict())\n",
    "df_google_play['Category'].value_counts(normalize=True)"
   ]
  },
  {
   "cell_type": "code",
   "execution_count": 25,
   "metadata": {
    "collapsed": false
   },
   "outputs": [
    {
     "data": {
      "text/plain": [
       "Games                0.581366\n",
       "Entertainment        0.078882\n",
       "Photo & Video        0.049689\n",
       "Education            0.036646\n",
       "Social Networking    0.032919\n",
       "Shopping             0.026087\n",
       "Utilities            0.025155\n",
       "Sports               0.021429\n",
       "Music                0.020497\n",
       "Health & Fitness     0.020186\n",
       "Productivity         0.017391\n",
       "Lifestyle            0.015839\n",
       "News                 0.013354\n",
       "Travel               0.012422\n",
       "Finance              0.011180\n",
       "Weather              0.008696\n",
       "Food & Drink         0.008075\n",
       "Reference            0.005590\n",
       "Business             0.005280\n",
       "Book                 0.004348\n",
       "Medical              0.001863\n",
       "Navigation           0.001863\n",
       "Catalogs             0.001242\n",
       "Name: prime_genre, dtype: float64"
      ]
     },
     "execution_count": 25,
     "metadata": {},
     "output_type": "execute_result"
    }
   ],
   "source": [
    "# print(df_app_store['prime_genre'].value_counts().to_dict())\n",
    "df_app_store['prime_genre'].value_counts(normalize=True)"
   ]
  },
  {
   "cell_type": "markdown",
   "metadata": {
    "collapsed": true
   },
   "source": [
    "Games are by far the largest over the two, but what's this Family category on Google Play?"
   ]
  },
  {
   "cell_type": "code",
   "execution_count": 60,
   "metadata": {
    "collapsed": false
   },
   "outputs": [
    {
     "data": {
      "text/plain": [
       "Entertainment                            0.273377\n",
       "Education                                0.226921\n",
       "Simulation                               0.103633\n",
       "Casual                                   0.079809\n",
       "Puzzle                                   0.046456\n",
       "Role Playing                             0.042883\n",
       "Strategy                                 0.039309\n",
       "Educational;Education                    0.020846\n",
       "Educational                              0.019655\n",
       "Education;Education                      0.014294\n",
       "Casual;Pretend Play                      0.012507\n",
       "Puzzle;Brain Games                       0.009529\n",
       "Racing;Action & Adventure                0.008934\n",
       "Casual;Action & Adventure                0.007147\n",
       "Entertainment;Music & Video              0.007147\n",
       "Arcade;Action & Adventure                0.006552\n",
       "Casual;Brain Games                       0.006552\n",
       "Educational;Pretend Play                 0.004765\n",
       "Board;Brain Games                        0.004765\n",
       "Action;Action & Adventure                0.004765\n",
       "Simulation;Action & Adventure            0.004169\n",
       "Entertainment;Brain Games                0.003574\n",
       "Casual;Creativity                        0.003574\n",
       "Educational;Brain Games                  0.003574\n",
       "Education;Pretend Play                   0.002382\n",
       "Role Playing;Pretend Play                0.002382\n",
       "Education;Music & Video                  0.001787\n",
       "Educational;Creativity                   0.001787\n",
       "Role Playing;Action & Adventure          0.001787\n",
       "Educational;Action & Adventure           0.001787\n",
       "                                           ...   \n",
       "Entertainment;Creativity                 0.001191\n",
       "Education;Creativity                     0.001191\n",
       "Simulation;Pretend Play                  0.001191\n",
       "Puzzle;Creativity                        0.001191\n",
       "Casual;Education                         0.001191\n",
       "Sports;Action & Adventure                0.001191\n",
       "Adventure;Education                      0.000596\n",
       "Casual;Music & Video                     0.000596\n",
       "Racing;Pretend Play                      0.000596\n",
       "Music & Audio;Music & Video              0.000596\n",
       "Trivia;Education                         0.000596\n",
       "Communication;Creativity                 0.000596\n",
       "Entertainment;Education                  0.000596\n",
       "Education;Brain Games                    0.000596\n",
       "Strategy;Action & Adventure              0.000596\n",
       "Health & Fitness;Education               0.000596\n",
       "Art & Design;Pretend Play                0.000596\n",
       "Art & Design;Action & Adventure          0.000596\n",
       "Role Playing;Brain Games                 0.000596\n",
       "Books & Reference;Education              0.000596\n",
       "Strategy;Education                       0.000596\n",
       "Simulation;Education                     0.000596\n",
       "Puzzle;Education                         0.000596\n",
       "Video Players & Editors;Music & Video    0.000596\n",
       "Arcade;Pretend Play                      0.000596\n",
       "Health & Fitness;Action & Adventure      0.000596\n",
       "Strategy;Creativity                      0.000596\n",
       "Card;Brain Games                         0.000596\n",
       "Card;Action & Adventure                  0.000596\n",
       "Lifestyle;Education                      0.000596\n",
       "Name: Genres, Length: 68, dtype: float64"
      ]
     },
     "execution_count": 60,
     "metadata": {},
     "output_type": "execute_result"
    }
   ],
   "source": [
    "df_family = df_google_play.loc[df_google_play['Category'] == 'FAMILY']\n",
    "df_family['Genres'].value_counts(normalize=True)"
   ]
  },
  {
   "cell_type": "code",
   "execution_count": 61,
   "metadata": {
    "collapsed": false
   },
   "outputs": [
    {
     "name": "stdout",
     "output_type": "stream",
     "text": [
      "['DL Hughley', '3D Color by Number with Voxels', 'Ako ay may lobo Pinoy Kid Song Offline', 'FE Mix - Jokes - Status - Wallpaper', 'BG Television', 'CX-40', 'Radio K - KUOM', 'Color by Number - Draw Sandbox Pixel Art', 'Cute Images for Whatsapp', 'Funny Jokes', 'Harris J Lyrics', 'Movie DB', 'Glitter Color By Number - Glitter Number Coloring', 'Results for DC Lottery', 'SYFY', 'BK Dinos', 'Ek Biladi Jadi Video Song', 'Scanning under clothes (prank)', 'BS Meter (Ad Supported)', 'FD VR - Virtual 3D Web Browser', 'E-cigarette for free', 'Deck Builder & Analyzer for CR', 'Evolution CP & IV Calculator for pokemon', 'Sanu Ek Pal Chain Song Videos - RAID Movie Songs', 'AW Radio', 'WPBS-DT', 'Bono’s Pit Bar-B-Q', 'Scanning body and undressing people', 'Best DP and Status - All Type DP & Status', 'Voice changer with effects', 'FANDOM for: GTA', 'Mahila Vashikaran(Ek rat me)-Hindi', 'Butterfly Pixel Art - coloring by number', 'ALPHA - Artificial Intelligence', 'CX-OF', 'Results for FL Lottery (Florida)', 'WRLP CB Repeater', 'CX-17WIFI', 'FL Lottery Results', 'DIRECTV for Tablets', \"R. Lee Ermey's Official Sound\", 'Google Play Games', 'BF 3d Wallpapers', 'She Will Be Loved Lyrics', 'Cheat Codes for GTA V', 'CG Wallpapers', 'FR: My Famous Lover', 'Quiz for Clash Royale™', 'Smokes for CS:GO', 'Romance et Mystères au Lycée', 'Spider grinder in screen funny', 'Get Free V-bucks_fortnite Hints', 'FD VR Music Videos - MTV Pop and Rap in 360', 'Poop FR', 'Adhenarcos - Coupe Adhemar EY 2018', 'Denis Brogniart - AH 2 !', 'Virtual Boyfriend Chat', 'The CW TV app', 'BG TV App', 'BG Cable TV', \"Igitabo cy'Indirimbo\", 'FD Mobile', 'Denis Brogniart - AH !', 'FG Radio - Radios de France', 'FeaturePoints: Free Gift Cards', 'Color by Disney', 'Hot Bhojpuri Video Song 2018 - Free Movies', 'Be Like Bill - Maker', 'Az Content', '3D DJ – Music Mixer with Virtual DJ', 'REV Robotic Enhance Vehicles', 'The Voice, sing and connect', 'Instant Buttons: The Best Soundboard', 'All Type DP', 'Marathi DP - status and message,jokes,Video app', 'Virtual Cigarette Smoking (prank)', 'AJ Tracey Music and Lyrics', 'DT-VR', 'DH-UFO', 'Virtual lover', \"CN Sayin' - Cartoon Network\", 'Grenade Practice for CS:GO', 'Stats CR Clan for Clash Royale', 'CT Lottery', 'Scratch-Off Guide for FL Lotto', 'Bitmoji – Your Personal Emoji', 'Gun Disassembly 2', 'Shabad Gurubani Punjabi mp3 free - Ek Onkar Satnam', 'Live Radio BD', 'Best DP and Status (Daily Updates Photos)', 'ChatBolo - AI Chatbot Online', 'The NBC App - Watch Live TV and Full Episodes', 'Ah Bailar', 'Five nights at Minecraft', 'AK-47 sounds', 'Be My Princess 2', 'MLP Colouring Adventures', 'BkEmu - BK-0010/11M emulator', 'Skill Tree - BL Pre Sequel', 'Q downloader : download your social media videos', 'Toilet Ek Prem Katha Songs Lyrics in Hindi', 'BD Earn Pro', 'BG Blurry HD Wallpapers', 'X-Wing Squadron Builder', 'DQSalmaan - A fan made App', 'BF CG View Wallpapers', 'BF Abstract 3d Pictures', 'BDCast - Bangla Live TV,Radio', 'AK-47 Sounds', 'Ek Kahani Aisi Bhi Season 2 - The Horror Story', 'CR Fans: Mazos, Clanes y Grupos', 'My Nexus for CS:S & CS:GO', '3D DJ – DJ Mixer 2018', 'BF 3d Images', 'EP Spotter', 'Ek Onkar', 'CG Backgrounds', 'FXNOW: Movies, Shows & Live TV', 'Download Video Free', 'EF First', 'Gogo Vision (Biz Av)', 'Food Network', 'FunnyPixels - Color by number Sandbox', 'Sandbox Art-Sandbox Color by Number Coloring Pages', '9GAG: Funny Gifs, Pics, Memes & Videos for IGTV', 'EB Demo for Android', 'Mehmet Emin Ay İlahileri', 'Digital FM Brasília DF', 'Thuglife Video Maker', 'Brainf*ck Interpreter', 'Jarvis artificial intelligent', 'Best CG Backgrounds', 'PLAYzone.cz', 'Solar System AR ( ARCore )', 'Best DP And Video Status 2018 For Whatsapp', 'Pink Guy - Ey B0ss', 'Super AR', 'Eventbrite - Discover popular events & nearby fun', 'Who Viewed My FB Profile', 'F.A Sumon songs', 'AT&T U-verse', 'Ek Do Teen Song Videos - Baaghi 2 Video Songs', 'BA VPN - Free Unlimited VPN', 'XCOM: TBG', 'FG. Chic - House Lounge Musique - Radios de France', 'Artificial intelligence', 'Guns - Shot Sounds', \"BJ's Community SoundBoard\", 'DC N COMPANY ENTERTAINMENT RADIO!', 'J. Cole Albums (2007-2017)', 'A&E - Watch Full Episodes of TV Shows', 'Elkhart County 4-H Fair', 'Adult Color by Number Book - Paint Mandala Pages', 'Mod GTA V for MCPE', 'Virtual Assistant DataBot: Artificial Intelligence', 'Chest Opener for CR - The Circle Game', 'Lie Detector Test Prank', 'Resources For Virtual DJ', 'BZ Bingo', 'Blagues et Histoires Drôles', 'Az Video Status', 'FD VR Player - for Youtube 3D', 'BK Video Status', 'Monster Park AR - Jurassic Dinosaurs in Real World', 'DV-2019 UK/British', 'Break the Egg', 'Bg Radios - Bulgarian radio stations online', 'BD Sports Box & TV', 'DK Online', 'DV-2019 Results', 'SMS Au revoir', 'CW Seed', 'EU in the World', 'F-O-Meter', 'AV HD Video Player', 'BD Radio TV Free List', 'Body Scanner xray Real Camera Prank Entertaintment', 'Gun AK 47', 'Adult Color By Number Book: Number Coloring Pages', 'Red Bull TV: Live Sports, Music & Entertainment', 'ES Remote', 'Channel U', 'Tom Loves Angela', 'E!', 'DT-CAM', 'ChatBot AI Talking Girl', 'cx-33wifi', 'Be My Princess', 'Rádio DF FM', 'Chatime AB Rewards', 'Chat With Artificial Intelligence', 'Results for CT Lottery', 'The CW', '[adult swim]', 'EC Fairgrounds', 'iFunny :)', 'Top BR Chaya Songs', 'How Old am I?', 'Tv Br News', 'Photo Warp', 'AC REMOTE UNIVERSAL-PRO', 'Xray Scanner Prank', 'U-Disco', 'AJ Rafael Music Lyrics', 'CritDice - Dice Roller', 'Radio FG Paris Underground', 'BJ-DRONE', 'FD VR Player - for 360 Youtube', 'Comunidad BH', 'FD VR - Virtual Photo Gallery', 'Deck Shop for Clash Royale', 'BF Beautiful Nature', 'TV Local El Salvador', 'Lyrics of Ek Paheli Leela', 'Who viewed my fb profile pro★★', 'RIV-BM FPV', 'CG FM', 'Fake Call From Wengie Prank', 'Raytheon F-16 EW 360 VR', 'FaceQ', 'EG Player', 'cx-32wifi', 'tv-ec', 'CP Calculator - Poke Go Calc', 'FD VR - Virtual Reality Camera', 'Choose SuperHero Quize Marvel | DC', 'YEBIS OpenGL ES 3.0 Tech Demo', 'Esto Es Guerra TVN', 'Railroad Radio Vancouver BC', 'Proverbes du monde', 'Figment AR', 'BF CG Abstract Pictures', 'The Ah Yeah! Button', 'Talking Boyfriend', 'YouTube TV - Watch & Record Live TV', 'AJ Rafael Music Lessons', 'Companion for Fortnite & Fortnite Battle Royale', 'La Poupée du Voyant', 'Best CG views', 'Lottery Results: Florida', 'Codes for GTA San Andreas', 'Sketchfab', 'PokeType - Dex', 'Ringtones Of Ek Onkar', 'Guide for CS:GO', 'SAY-U', 'Be Like Bro - Compilation', 'CP Creepypasta', 'PeopleTV - Watch Celebrity News', 'Dio Fa Cose', 'ABC – Live TV & Full Episodes', 'Loteria BR', 'CB Register', 'Easy V-Bux free', 'Ek Kauwa Pyasa Tha', 'Smart-AC Universal Remote Free', 'J-Novel Club', 'DV-LOTTERY 2019 REGISTRATION', 'Vimeo', 'FML F*ck my life + widget', 'AV Pro Voice Changer', 'AMC', 'Color by Number: Pixel Art', 'PixelDot - Color by Number Sandbox Pixel Art', 'CP Calculator', 'K-pop Music', 'FANDOM for: DC', 'FANDOM: Arrow and The Flash', 'Random Love (BF)', 'CJ SO COOL', 'OST)', 'A Call From Santa Claus!', 'BS Films', 'GO CP Evolution Calculator', 'Ay Up', 'Universal AC Remote Control Simulator', 'PS4 Second Screen', 'DV Lottery Simulator', 'FK Željezničar Izzy', 'J.ME Fly', 'Noot-Noot-er!', 'Grand Theft Auto V: The Manual', \"Baba Yaad Hai?(BK's)\", 'Aqw&3d Design Notes Manager', 'BC Lotto Check', 'Al jazeera TV', 'EXO-L', 'Be like Bill Generator', 'CS Guns Shoot', 'Robin - DC Movie Collection', 'CX-WiFi720P', 'CT-Stream Player', 'JONACK (D Story Teller)', 'Just a Line - Draw Anywhere, with AR', 'Royale Tournaments', 'Tattoo Color By Number Draw Book Page Pixel Art', 'Coloring Book for Me & Mandala', 'FR: My Secret Pets! ', 'Yazdani Cd Center EllahAbad Official App', 'AK-47 guns Sounds', 'A-Z Punjabi Songs & Music Videos 2018', 'Clash Soundboard For CR & COC', 'DJ Electro Mix Pad', 'Gokarting.dk', 'Servidor Privado de CR y CoC - Light Royale', 'Dragon BZ Super Wallpapers', 'Filmi Gaane', 'Radio BN', 'Skylink Live TV CZ', 'CINEMA.BH', 'Anime Expo 2018', 'Kiss Me! Lip Kissing Test', 'FP BW LCD View', 'DIRECTV Remote App', 'DR CONTROL', 'TeamWard – live help for LoL', 'DP Battle', 'CN Resident', 'DO YOU KNOW THE WAY Soundboard', 'Rabbithole', 'Talking Ginger', 'Ah !', 'CXmodel-ufo', 'How it works: AK-74N', 'Yaoi Novels - Shounen ai Book&fiction', 'PixBox Coloring - Color by number Sandbox', \"Qu'est ce qui est jaune et qui attend ?\", 'Latest DP and Status Pro 2018', 'Fandom: Five Nights at Freddys', 'AC Remote Control Simulator', 'Santa Fe Indian Market', 'Profile Pictures - Best DP Status', 'Voyance du pyromancien', 'AZ Lottery Players Club', 'The CW TN app 2018', 'I AM RICH', 'Ghost Detector', 'DP and Status', 'What was I in my Past Life', 'MadLipz', 'YouTube Gaming', 'Ek Qissa He Quran Se (Qurani Waqiyat)', 'Replika', 'Evolution CP', 'DC All Access', 'Alerte au gogol', 'Sci Fi Sounds', 'Meme Generator Free', 'Hot Bhojpuri Video songs', 'Talking Tom Cat 2', 'Louis CK', 'Xbox', 'CI Crew', 'C-SPAN Radio', 'Art Pixel Coloring. Color by Number.', 'Hulu: Stream TV, Movies & more', 'DH Karaoke', 'Amazing CG Backgrounds', 'Scary Video Maker', 'BF Movies Fun', 'Paint Space AR', 'DH UFO', 'EP Music', \"Tom's Love Letters\", 'Gun Mod: Guns in Minecraft PE', 'Real AI', 'AG EMS Tour', 'Advanced Warfare Guns', 'Calculate My IQ', 'WiFi FPV', 'BV Sridhara Maharaj', 'du View', 'Radio Belo Horizonte', 'Wi u Emulator', 'PK and DK Audio App', 'MJX H', 'Talking Tom & Ben News', 'Jagobd - Bangla TV(Official)', 'CG JOKES - Copy & Share', 'Goody.ba', 'Chest Calculator for CR', 'FD VR Cardboard Featured 360 Videos', 'Wolfify - Be a Werewolf', 'PixPanda - Color by Number Pixel Art Coloring Book', 'AK Interactive', 'Lottery Driver- Florida Result', 'CK FFXIV Companion', 'AH! Soundboard', 'CD CHOICE TUBE', 'Cheats for GTA V', 'Il Coccodrillo Come Fa', 'Pixelmania - Color by number & create pixel art', 'BG TV Program', 'Tomo A.i. Pet Chat Bot', '3D Color by Number: Voxel, Unicorn, Pixel Art 3D', 'Flim Af Somali Hindi Fanproj', 'Halloween Sandbox Number Coloring- Color By Number', 'Burger King Foot Lettuce', 'Ek Bander Ne Kholi Dukan', 'BS Generator', 'DP & Status', 'Ek Kahani Aisi Bhi Season 3 - The Horror Story', 'V LIVE - Star Live App', 'EK Carevec', 'The DL Hughley Show', 'BF 3d View Wallpapers', 'Faceoff DP Battle App', 'DJ Music Pad', 'FE EN ACCIÓN RADIO', 'Maher EL Mouaikly - Offline', 'CN TV Canal 3 - Cable Netword', 'Scanner Radio - Fire and Police Scanner', 'Smokes Guide for CS:GO', 'Helper for Clash Royale (All-in-1)', 'DV-2019 PHOTO TOOL', 'HBO GO: Stream with TV Package', 'Check Lottery Tickets - Florida', 'J-UFO', 'FD VR Video Player - (Stored)', 'virtual lover 3D', 'CR & CoC Private Server - Clash Barbarians PRO', 'TV.AE', 'Bg TV Online', 'Eh Volevi!', 'Br video editing', 'EP Radio', 'music (CG)', 'Ninja FN Button', 'Mediabox CY', 'Hallmark Channel Everywhere', 'Ohio State Fair 4-H', 'Valentines love color by number-Pixel art coloring', 'Cp Calculator for Evolution:GO', 'AT&T THANKS®', 'v-view', 'Pin-fo', 'El Falı', 'BJ & Jamie', '【Miku AR Camera】Mikuture', 'Blood Pressure Info', 'Best CG Photography', 'Freeform – Stream Full Episodes, Movies, & Live TV', 'HBO NOW: Stream TV & Movies', 'Akinator', 'BG TV Stations', 'DZ Blagues', 'AK-47 Assault Rifle', 'Instant Ba-dum-tss', 'CA Lottery Official App', 'DIRECTV', 'BF 4 Guns', 'FD VR Theater - for Youtube VR', 'Agent HQ for The Division', '25 Mins Ako ay may lobo Etc Pinoy Kid Song Offline', 'AK-47 Simulation and Info', 'Batmobile™ R/C Controller', 'BP Scanner Prank', 'KISW 99.9 FM SEATTLE', 'Free CW TN Videos 2018']\n"
     ]
    }
   ],
   "source": [
    "df_family_entertainment = df_family.loc[df_family['Genres'] == 'Entertainment']\n",
    "df_family_entertainment = pd.DataFrame(df_family_entertainment['App'].value_counts()).reset_index().drop(columns='App')\n",
    "list_family_entertainment = df_family_entertainment['index'].tolist()\n",
    "print(list_family_entertainment)"
   ]
  },
  {
   "cell_type": "markdown",
   "metadata": {},
   "source": [
    "At least a quarter of the Family category look related to games (simulation, casual, puzzle, role playing, strategy, brain games, etc), but most are streaming devices or random entertainment. \n",
    "\n",
    "The two app stores look different. The App Store is largely dominated by games with more than half of the apps in our target market. Google Play has productivity-type apps - Tools, Business, Lifestyle, Productivity, etc - but still a large portion are games of one type or another.\n",
    "\n",
    "My initial recommendation is moving forward with making a game. They are the most ubiquitous on the App Store, and close to the most on Google Play - certainly the most across both. However, I'm going to check two things first - the Genres to Category relationship, and the popularity of genres in each market.\n",
    "\n",
    "## 'Genres' to 'Category' relationship on Google Play\n",
    "At a glance, Genres looks more detailed than Category. We can check that each Genre is assigned to only one Category with a few commands."
   ]
  },
  {
   "cell_type": "code",
   "execution_count": 28,
   "metadata": {
    "collapsed": false
   },
   "outputs": [
    {
     "data": {
      "text/plain": [
       "134"
      ]
     },
     "execution_count": 28,
     "metadata": {},
     "output_type": "execute_result"
    }
   ],
   "source": [
    "df_genre_category_relationship = df_google_play.loc[:,['Genres','Category']]\n",
    "df_genre_category_relationship = df_genre_category_relationship.drop_duplicates()\n",
    "len(df_genre_category_relationship)"
   ]
  },
  {
   "cell_type": "code",
   "execution_count": 29,
   "metadata": {
    "collapsed": false
   },
   "outputs": [
    {
     "data": {
      "text/plain": [
       "19"
      ]
     },
     "execution_count": 29,
     "metadata": {},
     "output_type": "execute_result"
    }
   ],
   "source": [
    "df_g_c_r_counts = pd.DataFrame(df_genre_category_relationship['Genres'].value_counts()).reset_index()\n",
    "df_g_c_r_counts = df_g_c_r_counts.rename(columns={'index':'Genres','Genres':'Counts'})\n",
    "df_g_c_r_counts = df_g_c_r_counts.loc[df_g_c_r_counts['Counts'] >= 2]\n",
    "len(df_g_c_r_counts)"
   ]
  },
  {
   "cell_type": "markdown",
   "metadata": {},
   "source": [
    "It does look like the majority of Genres are only set to one Category, but 19 of 134 (14%) are assigned to two Categories. Let's take a look at those."
   ]
  },
  {
   "cell_type": "code",
   "execution_count": 30,
   "metadata": {
    "collapsed": false
   },
   "outputs": [
    {
     "data": {
      "text/html": [
       "<div>\n",
       "<style scoped>\n",
       "    .dataframe tbody tr th:only-of-type {\n",
       "        vertical-align: middle;\n",
       "    }\n",
       "\n",
       "    .dataframe tbody tr th {\n",
       "        vertical-align: top;\n",
       "    }\n",
       "\n",
       "    .dataframe thead th {\n",
       "        text-align: right;\n",
       "    }\n",
       "</style>\n",
       "<table border=\"1\" class=\"dataframe\">\n",
       "  <thead>\n",
       "    <tr style=\"text-align: right;\">\n",
       "      <th></th>\n",
       "      <th>Genres</th>\n",
       "      <th>Category</th>\n",
       "    </tr>\n",
       "  </thead>\n",
       "  <tbody>\n",
       "    <tr>\n",
       "      <th>1955</th>\n",
       "      <td>Action;Action &amp; Adventure</td>\n",
       "      <td>GAME</td>\n",
       "    </tr>\n",
       "    <tr>\n",
       "      <th>2071</th>\n",
       "      <td>Action;Action &amp; Adventure</td>\n",
       "      <td>FAMILY</td>\n",
       "    </tr>\n",
       "    <tr>\n",
       "      <th>4</th>\n",
       "      <td>Art &amp; Design;Creativity</td>\n",
       "      <td>ART_AND_DESIGN</td>\n",
       "    </tr>\n",
       "    <tr>\n",
       "      <th>7027</th>\n",
       "      <td>Art &amp; Design;Creativity</td>\n",
       "      <td>FAMILY</td>\n",
       "    </tr>\n",
       "    <tr>\n",
       "      <th>1890</th>\n",
       "      <td>Casual</td>\n",
       "      <td>GAME</td>\n",
       "    </tr>\n",
       "    <tr>\n",
       "      <th>4879</th>\n",
       "      <td>Casual</td>\n",
       "      <td>FAMILY</td>\n",
       "    </tr>\n",
       "    <tr>\n",
       "      <th>1980</th>\n",
       "      <td>Casual;Brain Games</td>\n",
       "      <td>GAME</td>\n",
       "    </tr>\n",
       "    <tr>\n",
       "      <th>2166</th>\n",
       "      <td>Casual;Brain Games</td>\n",
       "      <td>FAMILY</td>\n",
       "    </tr>\n",
       "    <tr>\n",
       "      <th>741</th>\n",
       "      <td>Education</td>\n",
       "      <td>EDUCATION</td>\n",
       "    </tr>\n",
       "    <tr>\n",
       "      <th>7826</th>\n",
       "      <td>Education</td>\n",
       "      <td>FAMILY</td>\n",
       "    </tr>\n",
       "    <tr>\n",
       "      <th>2240</th>\n",
       "      <td>Education;Brain Games</td>\n",
       "      <td>FAMILY</td>\n",
       "    </tr>\n",
       "    <tr>\n",
       "      <th>748</th>\n",
       "      <td>Education;Brain Games</td>\n",
       "      <td>EDUCATION</td>\n",
       "    </tr>\n",
       "    <tr>\n",
       "      <th>711</th>\n",
       "      <td>Education;Creativity</td>\n",
       "      <td>EDUCATION</td>\n",
       "    </tr>\n",
       "    <tr>\n",
       "      <th>2025</th>\n",
       "      <td>Education;Creativity</td>\n",
       "      <td>FAMILY</td>\n",
       "    </tr>\n",
       "    <tr>\n",
       "      <th>715</th>\n",
       "      <td>Education;Education</td>\n",
       "      <td>EDUCATION</td>\n",
       "    </tr>\n",
       "    <tr>\n",
       "      <th>8439</th>\n",
       "      <td>Education;Education</td>\n",
       "      <td>FAMILY</td>\n",
       "    </tr>\n",
       "    <tr>\n",
       "      <th>2187</th>\n",
       "      <td>Education;Pretend Play</td>\n",
       "      <td>FAMILY</td>\n",
       "    </tr>\n",
       "    <tr>\n",
       "      <th>728</th>\n",
       "      <td>Education;Pretend Play</td>\n",
       "      <td>EDUCATION</td>\n",
       "    </tr>\n",
       "    <tr>\n",
       "      <th>996</th>\n",
       "      <td>Entertainment</td>\n",
       "      <td>ENTERTAINMENT</td>\n",
       "    </tr>\n",
       "    <tr>\n",
       "      <th>7002</th>\n",
       "      <td>Entertainment</td>\n",
       "      <td>FAMILY</td>\n",
       "    </tr>\n",
       "    <tr>\n",
       "      <th>7583</th>\n",
       "      <td>Entertainment;Brain Games</td>\n",
       "      <td>FAMILY</td>\n",
       "    </tr>\n",
       "    <tr>\n",
       "      <th>884</th>\n",
       "      <td>Entertainment;Brain Games</td>\n",
       "      <td>ENTERTAINMENT</td>\n",
       "    </tr>\n",
       "    <tr>\n",
       "      <th>7032</th>\n",
       "      <td>Entertainment;Creativity</td>\n",
       "      <td>FAMILY</td>\n",
       "    </tr>\n",
       "    <tr>\n",
       "      <th>887</th>\n",
       "      <td>Entertainment;Creativity</td>\n",
       "      <td>ENTERTAINMENT</td>\n",
       "    </tr>\n",
       "    <tr>\n",
       "      <th>986</th>\n",
       "      <td>Entertainment;Music &amp; Video</td>\n",
       "      <td>ENTERTAINMENT</td>\n",
       "    </tr>\n",
       "    <tr>\n",
       "      <th>7613</th>\n",
       "      <td>Entertainment;Music &amp; Video</td>\n",
       "      <td>FAMILY</td>\n",
       "    </tr>\n",
       "    <tr>\n",
       "      <th>4404</th>\n",
       "      <td>Puzzle</td>\n",
       "      <td>FAMILY</td>\n",
       "    </tr>\n",
       "    <tr>\n",
       "      <th>1968</th>\n",
       "      <td>Puzzle</td>\n",
       "      <td>GAME</td>\n",
       "    </tr>\n",
       "    <tr>\n",
       "      <th>8438</th>\n",
       "      <td>Role Playing</td>\n",
       "      <td>FAMILY</td>\n",
       "    </tr>\n",
       "    <tr>\n",
       "      <th>1862</th>\n",
       "      <td>Role Playing</td>\n",
       "      <td>GAME</td>\n",
       "    </tr>\n",
       "    <tr>\n",
       "      <th>3925</th>\n",
       "      <td>Simulation</td>\n",
       "      <td>FAMILY</td>\n",
       "    </tr>\n",
       "    <tr>\n",
       "      <th>1778</th>\n",
       "      <td>Simulation</td>\n",
       "      <td>GAME</td>\n",
       "    </tr>\n",
       "    <tr>\n",
       "      <th>2989</th>\n",
       "      <td>Sports</td>\n",
       "      <td>SPORTS</td>\n",
       "    </tr>\n",
       "    <tr>\n",
       "      <th>1902</th>\n",
       "      <td>Sports</td>\n",
       "      <td>GAME</td>\n",
       "    </tr>\n",
       "    <tr>\n",
       "      <th>1823</th>\n",
       "      <td>Strategy</td>\n",
       "      <td>GAME</td>\n",
       "    </tr>\n",
       "    <tr>\n",
       "      <th>4840</th>\n",
       "      <td>Strategy</td>\n",
       "      <td>FAMILY</td>\n",
       "    </tr>\n",
       "    <tr>\n",
       "      <th>5861</th>\n",
       "      <td>Video Players &amp; Editors;Music &amp; Video</td>\n",
       "      <td>FAMILY</td>\n",
       "    </tr>\n",
       "    <tr>\n",
       "      <th>3702</th>\n",
       "      <td>Video Players &amp; Editors;Music &amp; Video</td>\n",
       "      <td>VIDEO_PLAYERS</td>\n",
       "    </tr>\n",
       "  </tbody>\n",
       "</table>\n",
       "</div>"
      ],
      "text/plain": [
       "                                     Genres        Category\n",
       "1955              Action;Action & Adventure            GAME\n",
       "2071              Action;Action & Adventure          FAMILY\n",
       "4                   Art & Design;Creativity  ART_AND_DESIGN\n",
       "7027                Art & Design;Creativity          FAMILY\n",
       "1890                                 Casual            GAME\n",
       "4879                                 Casual          FAMILY\n",
       "1980                     Casual;Brain Games            GAME\n",
       "2166                     Casual;Brain Games          FAMILY\n",
       "741                               Education       EDUCATION\n",
       "7826                              Education          FAMILY\n",
       "2240                  Education;Brain Games          FAMILY\n",
       "748                   Education;Brain Games       EDUCATION\n",
       "711                    Education;Creativity       EDUCATION\n",
       "2025                   Education;Creativity          FAMILY\n",
       "715                     Education;Education       EDUCATION\n",
       "8439                    Education;Education          FAMILY\n",
       "2187                 Education;Pretend Play          FAMILY\n",
       "728                  Education;Pretend Play       EDUCATION\n",
       "996                           Entertainment   ENTERTAINMENT\n",
       "7002                          Entertainment          FAMILY\n",
       "7583              Entertainment;Brain Games          FAMILY\n",
       "884               Entertainment;Brain Games   ENTERTAINMENT\n",
       "7032               Entertainment;Creativity          FAMILY\n",
       "887                Entertainment;Creativity   ENTERTAINMENT\n",
       "986             Entertainment;Music & Video   ENTERTAINMENT\n",
       "7613            Entertainment;Music & Video          FAMILY\n",
       "4404                                 Puzzle          FAMILY\n",
       "1968                                 Puzzle            GAME\n",
       "8438                           Role Playing          FAMILY\n",
       "1862                           Role Playing            GAME\n",
       "3925                             Simulation          FAMILY\n",
       "1778                             Simulation            GAME\n",
       "2989                                 Sports          SPORTS\n",
       "1902                                 Sports            GAME\n",
       "1823                               Strategy            GAME\n",
       "4840                               Strategy          FAMILY\n",
       "5861  Video Players & Editors;Music & Video          FAMILY\n",
       "3702  Video Players & Editors;Music & Video   VIDEO_PLAYERS"
      ]
     },
     "execution_count": 30,
     "metadata": {},
     "output_type": "execute_result"
    }
   ],
   "source": [
    "check_list = list(df_g_c_r_counts['Genres'])\n",
    "check_df = df_google_play.loc[df_google_play['Genres'].isin(check_list)]\n",
    "check_df = check_df.loc[:,['Genres','Category']].drop_duplicates().sort_values('Genres')\n",
    "check_df"
   ]
  },
  {
   "cell_type": "markdown",
   "metadata": {},
   "source": [
    "Lots of crossover between family and education, family and entertainment, and family and game, but not anything drastic enough to make me want to reconsider my recommendation to build a game.  \n",
    "\n",
    "## Popularity of genres\n",
    "We want our app to have a lot of installs. Therefore it's important to see the popularity of each. We can use the 'Installs' column directly for Google Play, and for the App Store we can use the rating_count_tot as a proxy. First we have to convert the text string install counts to int strings. The granularity isn't great but it's better than nothing."
   ]
  },
  {
   "cell_type": "code",
   "execution_count": 31,
   "metadata": {
    "collapsed": false
   },
   "outputs": [],
   "source": [
    "df_google_play['Installs_count'] = [i.replace(',','').replace('+','') for i in df_google_play['Installs']]\n",
    "df_google_play['Installs_count'] = df_google_play['Installs_count'].astype(int)\n",
    "# df_google_play['Installs_count'].value_counts()"
   ]
  },
  {
   "cell_type": "markdown",
   "metadata": {},
   "source": [
    "Now we can look at the average install count for the Genres and Categories."
   ]
  },
  {
   "cell_type": "code",
   "execution_count": 50,
   "metadata": {
    "collapsed": false
   },
   "outputs": [
    {
     "data": {
      "text/html": [
       "<div>\n",
       "<style scoped>\n",
       "    .dataframe tbody tr th:only-of-type {\n",
       "        vertical-align: middle;\n",
       "    }\n",
       "\n",
       "    .dataframe tbody tr th {\n",
       "        vertical-align: top;\n",
       "    }\n",
       "\n",
       "    .dataframe thead th {\n",
       "        text-align: right;\n",
       "    }\n",
       "</style>\n",
       "<table border=\"1\" class=\"dataframe\">\n",
       "  <thead>\n",
       "    <tr style=\"text-align: right;\">\n",
       "      <th></th>\n",
       "      <th>Genres</th>\n",
       "      <th>Average_installs_count_in_millions</th>\n",
       "    </tr>\n",
       "  </thead>\n",
       "  <tbody>\n",
       "    <tr>\n",
       "      <th>33</th>\n",
       "      <td>Communication</td>\n",
       "      <td>38.456119</td>\n",
       "    </tr>\n",
       "    <tr>\n",
       "      <th>3</th>\n",
       "      <td>Adventure;Action &amp; Adventure</td>\n",
       "      <td>35.333333</td>\n",
       "    </tr>\n",
       "    <tr>\n",
       "      <th>110</th>\n",
       "      <td>Video Players &amp; Editors</td>\n",
       "      <td>24.947336</td>\n",
       "    </tr>\n",
       "    <tr>\n",
       "      <th>97</th>\n",
       "      <td>Social</td>\n",
       "      <td>23.253652</td>\n",
       "    </tr>\n",
       "    <tr>\n",
       "      <th>5</th>\n",
       "      <td>Arcade</td>\n",
       "      <td>22.888365</td>\n",
       "    </tr>\n",
       "    <tr>\n",
       "      <th>24</th>\n",
       "      <td>Casual</td>\n",
       "      <td>19.630959</td>\n",
       "    </tr>\n",
       "    <tr>\n",
       "      <th>81</th>\n",
       "      <td>Puzzle;Action &amp; Adventure</td>\n",
       "      <td>18.366667</td>\n",
       "    </tr>\n",
       "    <tr>\n",
       "      <th>78</th>\n",
       "      <td>Photography</td>\n",
       "      <td>17.805628</td>\n",
       "    </tr>\n",
       "    <tr>\n",
       "      <th>44</th>\n",
       "      <td>Educational;Action &amp; Adventure</td>\n",
       "      <td>17.016667</td>\n",
       "    </tr>\n",
       "    <tr>\n",
       "      <th>79</th>\n",
       "      <td>Productivity</td>\n",
       "      <td>16.787331</td>\n",
       "    </tr>\n",
       "    <tr>\n",
       "      <th>85</th>\n",
       "      <td>Racing</td>\n",
       "      <td>15.910646</td>\n",
       "    </tr>\n",
       "    <tr>\n",
       "      <th>106</th>\n",
       "      <td>Travel &amp; Local</td>\n",
       "      <td>14.051476</td>\n",
       "    </tr>\n",
       "    <tr>\n",
       "      <th>25</th>\n",
       "      <td>Casual;Action &amp; Adventure</td>\n",
       "      <td>12.916667</td>\n",
       "    </tr>\n",
       "    <tr>\n",
       "      <th>0</th>\n",
       "      <td>Action</td>\n",
       "      <td>12.603589</td>\n",
       "    </tr>\n",
       "    <tr>\n",
       "      <th>100</th>\n",
       "      <td>Strategy</td>\n",
       "      <td>11.199903</td>\n",
       "    </tr>\n",
       "    <tr>\n",
       "      <th>104</th>\n",
       "      <td>Tools</td>\n",
       "      <td>10.683213</td>\n",
       "    </tr>\n",
       "    <tr>\n",
       "      <th>90</th>\n",
       "      <td>Role Playing;Brain Games</td>\n",
       "      <td>10.000000</td>\n",
       "    </tr>\n",
       "    <tr>\n",
       "      <th>105</th>\n",
       "      <td>Tools;Education</td>\n",
       "      <td>10.000000</td>\n",
       "    </tr>\n",
       "    <tr>\n",
       "      <th>66</th>\n",
       "      <td>Lifestyle;Pretend Play</td>\n",
       "      <td>10.000000</td>\n",
       "    </tr>\n",
       "    <tr>\n",
       "      <th>21</th>\n",
       "      <td>Card;Action &amp; Adventure</td>\n",
       "      <td>10.000000</td>\n",
       "    </tr>\n",
       "    <tr>\n",
       "      <th>4</th>\n",
       "      <td>Adventure;Education</td>\n",
       "      <td>10.000000</td>\n",
       "    </tr>\n",
       "    <tr>\n",
       "      <th>29</th>\n",
       "      <td>Casual;Music &amp; Video</td>\n",
       "      <td>10.000000</td>\n",
       "    </tr>\n",
       "    <tr>\n",
       "      <th>72</th>\n",
       "      <td>News &amp; Magazines</td>\n",
       "      <td>9.549178</td>\n",
       "    </tr>\n",
       "    <tr>\n",
       "      <th>69</th>\n",
       "      <td>Music</td>\n",
       "      <td>9.445583</td>\n",
       "    </tr>\n",
       "    <tr>\n",
       "      <th>48</th>\n",
       "      <td>Educational;Pretend Play</td>\n",
       "      <td>9.375000</td>\n",
       "    </tr>\n",
       "    <tr>\n",
       "      <th>114</th>\n",
       "      <td>Word</td>\n",
       "      <td>9.094459</td>\n",
       "    </tr>\n",
       "    <tr>\n",
       "      <th>82</th>\n",
       "      <td>Puzzle;Brain Games</td>\n",
       "      <td>9.013125</td>\n",
       "    </tr>\n",
       "    <tr>\n",
       "      <th>86</th>\n",
       "      <td>Racing;Action &amp; Adventure</td>\n",
       "      <td>8.816667</td>\n",
       "    </tr>\n",
       "    <tr>\n",
       "      <th>17</th>\n",
       "      <td>Books &amp; Reference</td>\n",
       "      <td>8.767812</td>\n",
       "    </tr>\n",
       "    <tr>\n",
       "      <th>80</th>\n",
       "      <td>Puzzle</td>\n",
       "      <td>8.302862</td>\n",
       "    </tr>\n",
       "    <tr>\n",
       "      <th>...</th>\n",
       "      <td>...</td>\n",
       "      <td>...</td>\n",
       "    </tr>\n",
       "    <tr>\n",
       "      <th>74</th>\n",
       "      <td>Parenting;Brain Games</td>\n",
       "      <td>1.000000</td>\n",
       "    </tr>\n",
       "    <tr>\n",
       "      <th>16</th>\n",
       "      <td>Board;Brain Games</td>\n",
       "      <td>0.981250</td>\n",
       "    </tr>\n",
       "    <tr>\n",
       "      <th>35</th>\n",
       "      <td>Dating</td>\n",
       "      <td>0.854029</td>\n",
       "    </tr>\n",
       "    <tr>\n",
       "      <th>31</th>\n",
       "      <td>Comics</td>\n",
       "      <td>0.831873</td>\n",
       "    </tr>\n",
       "    <tr>\n",
       "      <th>83</th>\n",
       "      <td>Puzzle;Creativity</td>\n",
       "      <td>0.750000</td>\n",
       "    </tr>\n",
       "    <tr>\n",
       "      <th>12</th>\n",
       "      <td>Auto &amp; Vehicles</td>\n",
       "      <td>0.647318</td>\n",
       "    </tr>\n",
       "    <tr>\n",
       "      <th>63</th>\n",
       "      <td>Libraries &amp; Demo</td>\n",
       "      <td>0.638504</td>\n",
       "    </tr>\n",
       "    <tr>\n",
       "      <th>96</th>\n",
       "      <td>Simulation;Pretend Play</td>\n",
       "      <td>0.550000</td>\n",
       "    </tr>\n",
       "    <tr>\n",
       "      <th>36</th>\n",
       "      <td>Education</td>\n",
       "      <td>0.540692</td>\n",
       "    </tr>\n",
       "    <tr>\n",
       "      <th>13</th>\n",
       "      <td>Beauty</td>\n",
       "      <td>0.513152</td>\n",
       "    </tr>\n",
       "    <tr>\n",
       "      <th>34</th>\n",
       "      <td>Communication;Creativity</td>\n",
       "      <td>0.500000</td>\n",
       "    </tr>\n",
       "    <tr>\n",
       "      <th>11</th>\n",
       "      <td>Art &amp; Design;Pretend Play</td>\n",
       "      <td>0.500000</td>\n",
       "    </tr>\n",
       "    <tr>\n",
       "      <th>103</th>\n",
       "      <td>Strategy;Education</td>\n",
       "      <td>0.500000</td>\n",
       "    </tr>\n",
       "    <tr>\n",
       "      <th>70</th>\n",
       "      <td>Music &amp; Audio;Music &amp; Video</td>\n",
       "      <td>0.500000</td>\n",
       "    </tr>\n",
       "    <tr>\n",
       "      <th>73</th>\n",
       "      <td>Parenting</td>\n",
       "      <td>0.467977</td>\n",
       "    </tr>\n",
       "    <tr>\n",
       "      <th>75</th>\n",
       "      <td>Parenting;Education</td>\n",
       "      <td>0.452857</td>\n",
       "    </tr>\n",
       "    <tr>\n",
       "      <th>43</th>\n",
       "      <td>Educational</td>\n",
       "      <td>0.411185</td>\n",
       "    </tr>\n",
       "    <tr>\n",
       "      <th>10</th>\n",
       "      <td>Art &amp; Design;Creativity</td>\n",
       "      <td>0.285000</td>\n",
       "    </tr>\n",
       "    <tr>\n",
       "      <th>56</th>\n",
       "      <td>Events</td>\n",
       "      <td>0.253542</td>\n",
       "    </tr>\n",
       "    <tr>\n",
       "      <th>68</th>\n",
       "      <td>Medical</td>\n",
       "      <td>0.120616</td>\n",
       "    </tr>\n",
       "    <tr>\n",
       "      <th>9</th>\n",
       "      <td>Art &amp; Design;Action &amp; Adventure</td>\n",
       "      <td>0.100000</td>\n",
       "    </tr>\n",
       "    <tr>\n",
       "      <th>61</th>\n",
       "      <td>Health &amp; Fitness;Education</td>\n",
       "      <td>0.100000</td>\n",
       "    </tr>\n",
       "    <tr>\n",
       "      <th>65</th>\n",
       "      <td>Lifestyle;Education</td>\n",
       "      <td>0.100000</td>\n",
       "    </tr>\n",
       "    <tr>\n",
       "      <th>107</th>\n",
       "      <td>Travel &amp; Local;Action &amp; Adventure</td>\n",
       "      <td>0.100000</td>\n",
       "    </tr>\n",
       "    <tr>\n",
       "      <th>84</th>\n",
       "      <td>Puzzle;Education</td>\n",
       "      <td>0.100000</td>\n",
       "    </tr>\n",
       "    <tr>\n",
       "      <th>22</th>\n",
       "      <td>Card;Brain Games</td>\n",
       "      <td>0.100000</td>\n",
       "    </tr>\n",
       "    <tr>\n",
       "      <th>32</th>\n",
       "      <td>Comics;Creativity</td>\n",
       "      <td>0.050000</td>\n",
       "    </tr>\n",
       "    <tr>\n",
       "      <th>18</th>\n",
       "      <td>Books &amp; Reference;Education</td>\n",
       "      <td>0.001000</td>\n",
       "    </tr>\n",
       "    <tr>\n",
       "      <th>95</th>\n",
       "      <td>Simulation;Education</td>\n",
       "      <td>0.000500</td>\n",
       "    </tr>\n",
       "    <tr>\n",
       "      <th>109</th>\n",
       "      <td>Trivia;Education</td>\n",
       "      <td>0.000100</td>\n",
       "    </tr>\n",
       "  </tbody>\n",
       "</table>\n",
       "<p>115 rows × 2 columns</p>\n",
       "</div>"
      ],
      "text/plain": [
       "                                Genres  Average_installs_count_in_millions\n",
       "33                       Communication                           38.456119\n",
       "3         Adventure;Action & Adventure                           35.333333\n",
       "110            Video Players & Editors                           24.947336\n",
       "97                              Social                           23.253652\n",
       "5                               Arcade                           22.888365\n",
       "24                              Casual                           19.630959\n",
       "81           Puzzle;Action & Adventure                           18.366667\n",
       "78                         Photography                           17.805628\n",
       "44      Educational;Action & Adventure                           17.016667\n",
       "79                        Productivity                           16.787331\n",
       "85                              Racing                           15.910646\n",
       "106                     Travel & Local                           14.051476\n",
       "25           Casual;Action & Adventure                           12.916667\n",
       "0                               Action                           12.603589\n",
       "100                           Strategy                           11.199903\n",
       "104                              Tools                           10.683213\n",
       "90            Role Playing;Brain Games                           10.000000\n",
       "105                    Tools;Education                           10.000000\n",
       "66              Lifestyle;Pretend Play                           10.000000\n",
       "21             Card;Action & Adventure                           10.000000\n",
       "4                  Adventure;Education                           10.000000\n",
       "29                Casual;Music & Video                           10.000000\n",
       "72                    News & Magazines                            9.549178\n",
       "69                               Music                            9.445583\n",
       "48            Educational;Pretend Play                            9.375000\n",
       "114                               Word                            9.094459\n",
       "82                  Puzzle;Brain Games                            9.013125\n",
       "86           Racing;Action & Adventure                            8.816667\n",
       "17                   Books & Reference                            8.767812\n",
       "80                              Puzzle                            8.302862\n",
       "..                                 ...                                 ...\n",
       "74               Parenting;Brain Games                            1.000000\n",
       "16                   Board;Brain Games                            0.981250\n",
       "35                              Dating                            0.854029\n",
       "31                              Comics                            0.831873\n",
       "83                   Puzzle;Creativity                            0.750000\n",
       "12                     Auto & Vehicles                            0.647318\n",
       "63                    Libraries & Demo                            0.638504\n",
       "96             Simulation;Pretend Play                            0.550000\n",
       "36                           Education                            0.540692\n",
       "13                              Beauty                            0.513152\n",
       "34            Communication;Creativity                            0.500000\n",
       "11           Art & Design;Pretend Play                            0.500000\n",
       "103                 Strategy;Education                            0.500000\n",
       "70         Music & Audio;Music & Video                            0.500000\n",
       "73                           Parenting                            0.467977\n",
       "75                 Parenting;Education                            0.452857\n",
       "43                         Educational                            0.411185\n",
       "10             Art & Design;Creativity                            0.285000\n",
       "56                              Events                            0.253542\n",
       "68                             Medical                            0.120616\n",
       "9      Art & Design;Action & Adventure                            0.100000\n",
       "61          Health & Fitness;Education                            0.100000\n",
       "65                 Lifestyle;Education                            0.100000\n",
       "107  Travel & Local;Action & Adventure                            0.100000\n",
       "84                    Puzzle;Education                            0.100000\n",
       "22                    Card;Brain Games                            0.100000\n",
       "32                   Comics;Creativity                            0.050000\n",
       "18         Books & Reference;Education                            0.001000\n",
       "95                Simulation;Education                            0.000500\n",
       "109                   Trivia;Education                            0.000100\n",
       "\n",
       "[115 rows x 2 columns]"
      ]
     },
     "execution_count": 50,
     "metadata": {},
     "output_type": "execute_result"
    }
   ],
   "source": [
    "# Average installs (in millions) by Genre on Google Play\n",
    "df_gp_avg_installs_g = df_google_play.groupby('Genres', as_index=False)['Installs_count'].mean().sort_values('Installs_count', \n",
    "                                                                                                          ascending=False)\n",
    "df_gp_avg_installs_g['Installs_count'] = [i/1000000 for i in df_gp_avg_installs_g['Installs_count']]\n",
    "df_gp_avg_installs_g = df_gp_avg_installs_g.rename(columns={'Installs_count':'Average_installs_count_in_millions'})\n",
    "df_gp_avg_installs_g"
   ]
  },
  {
   "cell_type": "code",
   "execution_count": 51,
   "metadata": {
    "collapsed": false,
    "scrolled": true
   },
   "outputs": [
    {
     "data": {
      "text/html": [
       "<div>\n",
       "<style scoped>\n",
       "    .dataframe tbody tr th:only-of-type {\n",
       "        vertical-align: middle;\n",
       "    }\n",
       "\n",
       "    .dataframe tbody tr th {\n",
       "        vertical-align: top;\n",
       "    }\n",
       "\n",
       "    .dataframe thead th {\n",
       "        text-align: right;\n",
       "    }\n",
       "</style>\n",
       "<table border=\"1\" class=\"dataframe\">\n",
       "  <thead>\n",
       "    <tr style=\"text-align: right;\">\n",
       "      <th></th>\n",
       "      <th>Category</th>\n",
       "      <th>Average_installs_count_in_millions</th>\n",
       "    </tr>\n",
       "  </thead>\n",
       "  <tbody>\n",
       "    <tr>\n",
       "      <th>6</th>\n",
       "      <td>COMMUNICATION</td>\n",
       "      <td>38.456119</td>\n",
       "    </tr>\n",
       "    <tr>\n",
       "      <th>31</th>\n",
       "      <td>VIDEO_PLAYERS</td>\n",
       "      <td>24.727872</td>\n",
       "    </tr>\n",
       "    <tr>\n",
       "      <th>27</th>\n",
       "      <td>SOCIAL</td>\n",
       "      <td>23.253652</td>\n",
       "    </tr>\n",
       "    <tr>\n",
       "      <th>24</th>\n",
       "      <td>PHOTOGRAPHY</td>\n",
       "      <td>17.805628</td>\n",
       "    </tr>\n",
       "    <tr>\n",
       "      <th>25</th>\n",
       "      <td>PRODUCTIVITY</td>\n",
       "      <td>16.787331</td>\n",
       "    </tr>\n",
       "    <tr>\n",
       "      <th>14</th>\n",
       "      <td>GAME</td>\n",
       "      <td>15.560966</td>\n",
       "    </tr>\n",
       "    <tr>\n",
       "      <th>30</th>\n",
       "      <td>TRAVEL_AND_LOCAL</td>\n",
       "      <td>13.984078</td>\n",
       "    </tr>\n",
       "    <tr>\n",
       "      <th>9</th>\n",
       "      <td>ENTERTAINMENT</td>\n",
       "      <td>11.719762</td>\n",
       "    </tr>\n",
       "    <tr>\n",
       "      <th>29</th>\n",
       "      <td>TOOLS</td>\n",
       "      <td>10.682301</td>\n",
       "    </tr>\n",
       "    <tr>\n",
       "      <th>21</th>\n",
       "      <td>NEWS_AND_MAGAZINES</td>\n",
       "      <td>9.549178</td>\n",
       "    </tr>\n",
       "    <tr>\n",
       "      <th>3</th>\n",
       "      <td>BOOKS_AND_REFERENCE</td>\n",
       "      <td>8.767812</td>\n",
       "    </tr>\n",
       "    <tr>\n",
       "      <th>26</th>\n",
       "      <td>SHOPPING</td>\n",
       "      <td>7.036877</td>\n",
       "    </tr>\n",
       "    <tr>\n",
       "      <th>23</th>\n",
       "      <td>PERSONALIZATION</td>\n",
       "      <td>5.201483</td>\n",
       "    </tr>\n",
       "    <tr>\n",
       "      <th>32</th>\n",
       "      <td>WEATHER</td>\n",
       "      <td>5.074486</td>\n",
       "    </tr>\n",
       "    <tr>\n",
       "      <th>15</th>\n",
       "      <td>HEALTH_AND_FITNESS</td>\n",
       "      <td>4.188822</td>\n",
       "    </tr>\n",
       "    <tr>\n",
       "      <th>19</th>\n",
       "      <td>MAPS_AND_NAVIGATION</td>\n",
       "      <td>4.056942</td>\n",
       "    </tr>\n",
       "    <tr>\n",
       "      <th>11</th>\n",
       "      <td>FAMILY</td>\n",
       "      <td>3.695054</td>\n",
       "    </tr>\n",
       "    <tr>\n",
       "      <th>28</th>\n",
       "      <td>SPORTS</td>\n",
       "      <td>3.638640</td>\n",
       "    </tr>\n",
       "    <tr>\n",
       "      <th>0</th>\n",
       "      <td>ART_AND_DESIGN</td>\n",
       "      <td>1.986335</td>\n",
       "    </tr>\n",
       "    <tr>\n",
       "      <th>13</th>\n",
       "      <td>FOOD_AND_DRINK</td>\n",
       "      <td>1.924898</td>\n",
       "    </tr>\n",
       "    <tr>\n",
       "      <th>8</th>\n",
       "      <td>EDUCATION</td>\n",
       "      <td>1.820673</td>\n",
       "    </tr>\n",
       "    <tr>\n",
       "      <th>4</th>\n",
       "      <td>BUSINESS</td>\n",
       "      <td>1.712290</td>\n",
       "    </tr>\n",
       "    <tr>\n",
       "      <th>18</th>\n",
       "      <td>LIFESTYLE</td>\n",
       "      <td>1.437816</td>\n",
       "    </tr>\n",
       "    <tr>\n",
       "      <th>12</th>\n",
       "      <td>FINANCE</td>\n",
       "      <td>1.387692</td>\n",
       "    </tr>\n",
       "    <tr>\n",
       "      <th>16</th>\n",
       "      <td>HOUSE_AND_HOME</td>\n",
       "      <td>1.331541</td>\n",
       "    </tr>\n",
       "    <tr>\n",
       "      <th>7</th>\n",
       "      <td>DATING</td>\n",
       "      <td>0.854029</td>\n",
       "    </tr>\n",
       "    <tr>\n",
       "      <th>5</th>\n",
       "      <td>COMICS</td>\n",
       "      <td>0.817657</td>\n",
       "    </tr>\n",
       "    <tr>\n",
       "      <th>1</th>\n",
       "      <td>AUTO_AND_VEHICLES</td>\n",
       "      <td>0.647318</td>\n",
       "    </tr>\n",
       "    <tr>\n",
       "      <th>17</th>\n",
       "      <td>LIBRARIES_AND_DEMO</td>\n",
       "      <td>0.638504</td>\n",
       "    </tr>\n",
       "    <tr>\n",
       "      <th>22</th>\n",
       "      <td>PARENTING</td>\n",
       "      <td>0.542604</td>\n",
       "    </tr>\n",
       "    <tr>\n",
       "      <th>2</th>\n",
       "      <td>BEAUTY</td>\n",
       "      <td>0.513152</td>\n",
       "    </tr>\n",
       "    <tr>\n",
       "      <th>10</th>\n",
       "      <td>EVENTS</td>\n",
       "      <td>0.253542</td>\n",
       "    </tr>\n",
       "    <tr>\n",
       "      <th>20</th>\n",
       "      <td>MEDICAL</td>\n",
       "      <td>0.120616</td>\n",
       "    </tr>\n",
       "  </tbody>\n",
       "</table>\n",
       "</div>"
      ],
      "text/plain": [
       "               Category  Average_installs_count_in_millions\n",
       "6         COMMUNICATION                           38.456119\n",
       "31        VIDEO_PLAYERS                           24.727872\n",
       "27               SOCIAL                           23.253652\n",
       "24          PHOTOGRAPHY                           17.805628\n",
       "25         PRODUCTIVITY                           16.787331\n",
       "14                 GAME                           15.560966\n",
       "30     TRAVEL_AND_LOCAL                           13.984078\n",
       "9         ENTERTAINMENT                           11.719762\n",
       "29                TOOLS                           10.682301\n",
       "21   NEWS_AND_MAGAZINES                            9.549178\n",
       "3   BOOKS_AND_REFERENCE                            8.767812\n",
       "26             SHOPPING                            7.036877\n",
       "23      PERSONALIZATION                            5.201483\n",
       "32              WEATHER                            5.074486\n",
       "15   HEALTH_AND_FITNESS                            4.188822\n",
       "19  MAPS_AND_NAVIGATION                            4.056942\n",
       "11               FAMILY                            3.695054\n",
       "28               SPORTS                            3.638640\n",
       "0        ART_AND_DESIGN                            1.986335\n",
       "13       FOOD_AND_DRINK                            1.924898\n",
       "8             EDUCATION                            1.820673\n",
       "4              BUSINESS                            1.712290\n",
       "18            LIFESTYLE                            1.437816\n",
       "12              FINANCE                            1.387692\n",
       "16       HOUSE_AND_HOME                            1.331541\n",
       "7                DATING                            0.854029\n",
       "5                COMICS                            0.817657\n",
       "1     AUTO_AND_VEHICLES                            0.647318\n",
       "17   LIBRARIES_AND_DEMO                            0.638504\n",
       "22            PARENTING                            0.542604\n",
       "2                BEAUTY                            0.513152\n",
       "10               EVENTS                            0.253542\n",
       "20              MEDICAL                            0.120616"
      ]
     },
     "execution_count": 51,
     "metadata": {},
     "output_type": "execute_result"
    }
   ],
   "source": [
    "# Average installs (in millions) by Category on Google Play\n",
    "df_gp_avg_installs_c = df_google_play.groupby('Category', as_index=False)['Installs_count'].mean().sort_values('Installs_count', \n",
    "                                                                                                          ascending=False)\n",
    "df_gp_avg_installs_c['Installs_count'] = [i/1000000 for i in df_gp_avg_installs_c['Installs_count']]\n",
    "df_gp_avg_installs_c = df_gp_avg_installs_c.rename(columns={'Installs_count':'Average_installs_count_in_millions'})\n",
    "df_gp_avg_installs_c"
   ]
  },
  {
   "cell_type": "code",
   "execution_count": 54,
   "metadata": {
    "collapsed": false,
    "scrolled": true
   },
   "outputs": [
    {
     "data": {
      "text/html": [
       "<div>\n",
       "<style scoped>\n",
       "    .dataframe tbody tr th:only-of-type {\n",
       "        vertical-align: middle;\n",
       "    }\n",
       "\n",
       "    .dataframe tbody tr th {\n",
       "        vertical-align: top;\n",
       "    }\n",
       "\n",
       "    .dataframe thead th {\n",
       "        text-align: right;\n",
       "    }\n",
       "</style>\n",
       "<table border=\"1\" class=\"dataframe\">\n",
       "  <thead>\n",
       "    <tr style=\"text-align: right;\">\n",
       "      <th></th>\n",
       "      <th>prime_genre</th>\n",
       "      <th>rating_count_tot</th>\n",
       "    </tr>\n",
       "  </thead>\n",
       "  <tbody>\n",
       "    <tr>\n",
       "      <th>12</th>\n",
       "      <td>Navigation</td>\n",
       "      <td>86090</td>\n",
       "    </tr>\n",
       "    <tr>\n",
       "      <th>16</th>\n",
       "      <td>Reference</td>\n",
       "      <td>74942</td>\n",
       "    </tr>\n",
       "    <tr>\n",
       "      <th>18</th>\n",
       "      <td>Social Networking</td>\n",
       "      <td>71548</td>\n",
       "    </tr>\n",
       "    <tr>\n",
       "      <th>11</th>\n",
       "      <td>Music</td>\n",
       "      <td>57326</td>\n",
       "    </tr>\n",
       "    <tr>\n",
       "      <th>22</th>\n",
       "      <td>Weather</td>\n",
       "      <td>52279</td>\n",
       "    </tr>\n",
       "    <tr>\n",
       "      <th>0</th>\n",
       "      <td>Book</td>\n",
       "      <td>39758</td>\n",
       "    </tr>\n",
       "    <tr>\n",
       "      <th>6</th>\n",
       "      <td>Food &amp; Drink</td>\n",
       "      <td>33333</td>\n",
       "    </tr>\n",
       "    <tr>\n",
       "      <th>5</th>\n",
       "      <td>Finance</td>\n",
       "      <td>31467</td>\n",
       "    </tr>\n",
       "    <tr>\n",
       "      <th>14</th>\n",
       "      <td>Photo &amp; Video</td>\n",
       "      <td>28441</td>\n",
       "    </tr>\n",
       "    <tr>\n",
       "      <th>20</th>\n",
       "      <td>Travel</td>\n",
       "      <td>28243</td>\n",
       "    </tr>\n",
       "    <tr>\n",
       "      <th>17</th>\n",
       "      <td>Shopping</td>\n",
       "      <td>26919</td>\n",
       "    </tr>\n",
       "    <tr>\n",
       "      <th>8</th>\n",
       "      <td>Health &amp; Fitness</td>\n",
       "      <td>23298</td>\n",
       "    </tr>\n",
       "    <tr>\n",
       "      <th>19</th>\n",
       "      <td>Sports</td>\n",
       "      <td>23008</td>\n",
       "    </tr>\n",
       "    <tr>\n",
       "      <th>7</th>\n",
       "      <td>Games</td>\n",
       "      <td>22812</td>\n",
       "    </tr>\n",
       "    <tr>\n",
       "      <th>13</th>\n",
       "      <td>News</td>\n",
       "      <td>21248</td>\n",
       "    </tr>\n",
       "    <tr>\n",
       "      <th>15</th>\n",
       "      <td>Productivity</td>\n",
       "      <td>21028</td>\n",
       "    </tr>\n",
       "    <tr>\n",
       "      <th>21</th>\n",
       "      <td>Utilities</td>\n",
       "      <td>18684</td>\n",
       "    </tr>\n",
       "    <tr>\n",
       "      <th>9</th>\n",
       "      <td>Lifestyle</td>\n",
       "      <td>16485</td>\n",
       "    </tr>\n",
       "    <tr>\n",
       "      <th>4</th>\n",
       "      <td>Entertainment</td>\n",
       "      <td>14029</td>\n",
       "    </tr>\n",
       "    <tr>\n",
       "      <th>1</th>\n",
       "      <td>Business</td>\n",
       "      <td>7491</td>\n",
       "    </tr>\n",
       "    <tr>\n",
       "      <th>3</th>\n",
       "      <td>Education</td>\n",
       "      <td>7003</td>\n",
       "    </tr>\n",
       "    <tr>\n",
       "      <th>2</th>\n",
       "      <td>Catalogs</td>\n",
       "      <td>4004</td>\n",
       "    </tr>\n",
       "    <tr>\n",
       "      <th>10</th>\n",
       "      <td>Medical</td>\n",
       "      <td>612</td>\n",
       "    </tr>\n",
       "  </tbody>\n",
       "</table>\n",
       "</div>"
      ],
      "text/plain": [
       "          prime_genre  rating_count_tot\n",
       "12         Navigation             86090\n",
       "16          Reference             74942\n",
       "18  Social Networking             71548\n",
       "11              Music             57326\n",
       "22            Weather             52279\n",
       "0                Book             39758\n",
       "6        Food & Drink             33333\n",
       "5             Finance             31467\n",
       "14      Photo & Video             28441\n",
       "20             Travel             28243\n",
       "17           Shopping             26919\n",
       "8    Health & Fitness             23298\n",
       "19             Sports             23008\n",
       "7               Games             22812\n",
       "13               News             21248\n",
       "15       Productivity             21028\n",
       "21          Utilities             18684\n",
       "9           Lifestyle             16485\n",
       "4       Entertainment             14029\n",
       "1            Business              7491\n",
       "3           Education              7003\n",
       "2            Catalogs              4004\n",
       "10            Medical               612"
      ]
     },
     "execution_count": 54,
     "metadata": {},
     "output_type": "execute_result"
    }
   ],
   "source": [
    "# Average number of ratings by prime genre on the App Store\n",
    "df_a_avg_rat = df_app_store.groupby('prime_genre', as_index=False)['rating_count_tot'].mean().sort_values('rating_count_tot', ascending=False)\n",
    "df_a_avg_rat['rating_count_tot'] = df_a_avg_rat['rating_count_tot'].astype(int)\n",
    "df_a_avg_rat"
   ]
  },
  {
   "cell_type": "markdown",
   "metadata": {
    "collapsed": true
   },
   "source": [
    "# Final Recommendation\n",
    "Based on the information above, I recommend building a game of the genre \"action and adventure\" or related. "
   ]
  }
 ],
 "metadata": {
  "kernelspec": {
   "display_name": "Python 3",
   "language": "python",
   "name": "python3"
  },
  "language_info": {
   "codemirror_mode": {
    "name": "ipython",
    "version": 3
   },
   "file_extension": ".py",
   "mimetype": "text/x-python",
   "name": "python",
   "nbconvert_exporter": "python",
   "pygments_lexer": "ipython3",
   "version": "3.4.3"
  }
 },
 "nbformat": 4,
 "nbformat_minor": 2
}
